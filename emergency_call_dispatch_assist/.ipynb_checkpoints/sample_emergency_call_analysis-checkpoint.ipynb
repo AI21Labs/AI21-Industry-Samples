{
 "cells": [
  {
   "cell_type": "markdown",
   "id": "277ba246-af7d-47db-aa8e-f9f8774ce3bc",
   "metadata": {},
   "source": [
    "# Using AI21 Contextual Answers Support Emergency Call Dispatchers\n",
    "\n",
    "When receiving calls, emergency call dispatchers must quickly extract key information from civillians who are reporting an emergency. Given the stress and complex situation, callers are frequently confused or may not understand what is going on around them.\n",
    "\n",
    "In the context of emergency calls, dispatchers must find out the address where the caller is calling from, as well as the nature of the emergency. In the context of calls related to fires, dispatchers must quickly decide if the call is about a [working fire](https://en.wikipedia.org/wiki/Multiple-alarm_fire), which would require a coordinated response from multiple fire departments, or a minor incident or false alarm. \n",
    "\n",
    "This notebook demonstrates how the [AI21 Contextual Answers](https://www.ai21.com/studio/contextual-answers) Task Specific model can be used to surface answers to these two important questions for dispatchers. Given a sample transcript of a call, Contextual Answers will surface the needed information. Importantly, such answers must fulfill two criteria:\n",
    "\n",
    "1. If no answer is present, no answer is surfaced\n",
    "2. The answer must be current to what the caller is saying **now**. This can alert the dispatcher if anything changes while the caller is on the line."
   ]
  },
  {
   "cell_type": "markdown",
   "id": "238add41-79d9-4311-8922-0c48b92f1825",
   "metadata": {},
   "source": [
    "### Load Library"
   ]
  },
  {
   "cell_type": "code",
   "execution_count": 1,
   "id": "43f0c421-a572-4bf3-97e5-f0f0e7368566",
   "metadata": {},
   "outputs": [],
   "source": [
    "from ai21 import AI21Client\n",
    "\n",
    "client = AI21Client() #uses the environment variable \n",
    "#If you wish to pass your api key as a string, you can use the following code\n",
    "\n",
    "import json\n",
    "import os\n",
    "os.environ[\"AI21_LOG_LEVEL\"] = \"DEBUG\"\n",
    "\n",
    "from ai21 import AI21Client\n",
    "client = AI21Client()\n",
    "#client = AI21Client(api_key='my_api_key')"
   ]
  },
  {
   "cell_type": "markdown",
   "id": "c27c9ab8-42d3-4cf2-85f6-de8ca86eb80d",
   "metadata": {},
   "source": [
    "Define Functions"
   ]
  },
  {
   "cell_type": "code",
   "execution_count": 2,
   "id": "8835ea3b-1ec9-4153-97ef-6fe87cb64d36",
   "metadata": {},
   "outputs": [],
   "source": [
    "def read_file_into_rolling_window(filename, window_size=2):\n",
    "# Initialize an empty list to store the rolling window lists\n",
    "    result = []\n",
    "    \n",
    "    # Open the file and read lines\n",
    "    with open(filename, 'r') as file:\n",
    "        content = file.read().splitlines()  # Read lines and split by newline, creating a list of lines\n",
    "    \n",
    "        # Process each line in the rolling window fashion\n",
    "        for i in range(len(content)):\n",
    "            if i < window_size:\n",
    "                # For the initial lines, add them progressively\n",
    "                result.append(\"\\n\".join(content[:i+1]))\n",
    "            else:\n",
    "                # For subsequent lines, create a rolling window of the specified size\n",
    "                result.append(\"\\n\".join(content[i-window_size+1:i+1]))\n",
    "    \n",
    "    return result\n",
    "def call_ca(context,question):\n",
    "    response = client.answer.create(\n",
    "      context=context,\n",
    "      question=question)\n",
    "    answer=response.answer\n",
    "    if response.answer is None:\n",
    "        answer=\"None\"\n",
    "    return(answer)\n",
    "\n"
   ]
  },
  {
   "cell_type": "markdown",
   "id": "f14425b8-1c61-4c88-aa83-a377d936c74b",
   "metadata": {},
   "source": [
    "### Load Transcript\n",
    "Now we will load the transcript, in a live situation, audio can be passed to transcription services, such as [AWS Transcribe](https://aws.amazon.com/transcribe/) to get real-time transcriptions. In order to emulate a real-time transcription, where we only have access to part of the transcript any any given time, we will split the transcript into sections. Contextual Answers thus only analyzes **the callers current response, and the dispatchers previous comment**"
   ]
  },
  {
   "cell_type": "code",
   "execution_count": 3,
   "id": "d60d57f1-81ae-4a86-9712-c90a9ebfed00",
   "metadata": {},
   "outputs": [],
   "source": [
    "filename = 'sample_emergency_call.txt'  # Specify the path to your file\n",
    "rolling_transcript= read_file_into_rolling_window(filename)\n",
    "#print(rolling_transcript[0:5])\n"
   ]
  },
  {
   "cell_type": "markdown",
   "id": "9191ea01-c850-4ec2-b403-1f7e1c64e5f1",
   "metadata": {},
   "source": [
    "Now we will analyze the transcript. Looking to see if a working fire or the callers address is reported. Note that Contextual Answers correctly finds that the earlier in the transcript, the caller reports a fire, but then *changes their mind* and instead notes that it is a false alarm. Contextual Answers also correctly does not surface the address until it actually shows up in the transcript."
   ]
  },
  {
   "cell_type": "code",
   "execution_count": 4,
   "id": "afcca451-810e-4a97-b4cf-be28878e15d4",
   "metadata": {},
   "outputs": [
    {
     "name": "stdout",
     "output_type": "stream",
     "text": [
      "Address:  None\n",
      "Fire:     None\n",
      "_____\n",
      "\n",
      "Address:  None\n",
      "Fire:     None\n",
      "_____\n",
      "\n",
      "Address:  None\n",
      "Fire:     None\n",
      "_____\n",
      "\n",
      "Address:  None\n",
      "Fire:     None\n",
      "_____\n",
      "\n",
      "Address:  None\n",
      "Fire:     None\n",
      "_____\n",
      "\n",
      "Address:  The caller's address is 1234 Cherry Road.\n",
      "Fire:     None\n",
      "_____\n",
      "\n",
      "Address:  The caller's address is 1234 Cherry Road.\n",
      "Fire:     None\n",
      "_____\n",
      "\n",
      "Address:  None\n",
      "Fire:     The caller is reporting a fire in the building.\n",
      "_____\n",
      "\n",
      "Address:  None\n",
      "Fire:     The caller is reporting a fire in the building.\n",
      "_____\n",
      "\n",
      "Address:  None\n",
      "Fire:     The caller is not reporting a fire, but a kitchen accident.\n",
      "_____\n",
      "\n",
      "Address:  None\n",
      "Fire:     The caller is not reporting a fire in the building, but a kitchen accident.\n",
      "_____\n",
      "\n",
      "Address:  None\n",
      "Fire:     None\n",
      "_____\n",
      "\n"
     ]
    }
   ],
   "source": [
    "for current_transcript in rolling_transcript:\n",
    "    address_question=\"What is the caller's address?\"\n",
    "    address_present=call_ca(current_transcript, address_question)\n",
    "\n",
    "    active_fire_question=\"Is the caller reporting a fire in the building?\"\n",
    "    active_fire_present=call_ca(current_transcript, active_fire_question)\n",
    "    \n",
    "    print(\"Address: \",address_present)\n",
    "    print(\"Fire:    \",active_fire_present)\n",
    "    print(\"_____\\n\")"
   ]
  },
  {
   "cell_type": "markdown",
   "id": "2a10456e-2fdc-4cdb-91d9-b11990a111d1",
   "metadata": {},
   "source": [
    "### Conclusion\n",
    "\n",
    "This example shows how contextual answers can be used for analyzing not only whole transcripts, but also partial or incomplete transcripts, surfacing answers to questions, and even switching anwers depending on the context."
   ]
  },
  {
   "cell_type": "code",
   "execution_count": null,
   "id": "e1450e09-dbc3-4825-bb4a-a417895c0087",
   "metadata": {},
   "outputs": [],
   "source": []
  }
 ],
 "metadata": {
  "kernelspec": {
   "display_name": "Python 3 (ipykernel)",
   "language": "python",
   "name": "python3"
  },
  "language_info": {
   "codemirror_mode": {
    "name": "ipython",
    "version": 3
   },
   "file_extension": ".py",
   "mimetype": "text/x-python",
   "name": "python",
   "nbconvert_exporter": "python",
   "pygments_lexer": "ipython3",
   "version": "3.9.6"
  }
 },
 "nbformat": 4,
 "nbformat_minor": 5
}
