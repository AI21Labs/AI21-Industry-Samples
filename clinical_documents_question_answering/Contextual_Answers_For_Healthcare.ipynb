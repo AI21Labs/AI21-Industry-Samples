{
 "cells": [
  {
   "cell_type": "markdown",
   "id": "598b62a3-af49-42a8-a024-61abaf386819",
   "metadata": {},
   "source": [
    "# Enhancing Accuracy in Healthcare Record Interpretation with AI21 Models and Amazon SageMaker\n",
    "\n",
    "In the context of healthcare, the veracity of information is paramount. Accurate data is crucial for informed decision-making, enabling healthcare professionals to deliver quality care, reduce misdiagnoses, and prevent adverse events. This notebook shows how to use AI21's [Contextual Answers](https://aws.amazon.com/marketplace/pp/prodview-gwbjdp3tmh3bw) model to derive grounded answers from healthcare documents. In this notebook, we focus on answering questions from patient healthcare records."
   ]
  },
  {
   "cell_type": "markdown",
   "id": "0b327ac3-7498-483c-b487-296b633861c9",
   "metadata": {},
   "source": [
    "## Install and import dependencies"
   ]
  },
  {
   "cell_type": "code",
   "execution_count": null,
   "id": "78a042c9-e620-4bd1-841c-eeda54056488",
   "metadata": {},
   "outputs": [],
   "source": [
    "!pip install -U \"ai21[AWS]>=2.0.0\"\n",
    "#!pip install sagemaker\n",
    "#!pip install boto3"
   ]
  },
  {
   "cell_type": "code",
   "execution_count": 28,
   "id": "522636a6-ca6b-4894-aaf8-4927d46ad103",
   "metadata": {
    "scrolled": true
   },
   "outputs": [],
   "source": [
    "import json\n",
    "from sagemaker import ModelPackage\n",
    "from sagemaker import get_execution_role\n",
    "import sagemaker as sage\n",
    "import boto3\n",
    "from ai21 import AI21SageMakerClient\n",
    "import ai21\n",
    "boto_session = boto3.Session()\n",
    "region = boto3.Session().region_name"
   ]
  },
  {
   "cell_type": "markdown",
   "id": "c079ec0e-7a2c-4145-8f36-30f909498ed8",
   "metadata": {},
   "source": [
    "## Get AI21 Model Package\n",
    "Obtain the updated ARN (Amazon Resource Name) for the model package \"contextual-answers\" using the ai21 SageMaker library, and acquire the required role and session to interact with Amazon SageMaker."
   ]
  },
  {
   "cell_type": "code",
   "execution_count": 29,
   "id": "02cad4e7-a243-493a-ad72-005ed87fe55f",
   "metadata": {
    "scrolled": true
   },
   "outputs": [],
   "source": [
    "model_package_arn = ai21.SageMaker.get_model_package_arn(model_name=\"contextual-answers\", region=region)\n",
    "role = get_execution_role()\n",
    "sagemaker_session = sage.Session()"
   ]
  },
  {
   "cell_type": "markdown",
   "id": "1c8e5ba0-03d2-4500-bd79-31e571756879",
   "metadata": {},
   "source": [
    "## Deploy SageMaker Endpoint\n",
    "Set up a real-time inference endpoint named \"contextual-answers\" with a specified content type of \"application/json\". You can choose from a few different instances to use; the `ml.p4d.24xlarge` will be most performant, but also costly.\n",
    "\n",
    "(Note that the model takes between 5 to 7 minutes to deploy)"
   ]
  },
  {
   "cell_type": "code",
   "execution_count": 30,
   "id": "540814a2-1333-4e6a-a965-14245961cdf5",
   "metadata": {
    "scrolled": true
   },
   "outputs": [
    {
     "name": "stdout",
     "output_type": "stream",
     "text": [
      "-------------!"
     ]
    }
   ],
   "source": [
    "endpoint_name = \"contextual-answers\"\n",
    "\n",
    "content_type = \"application/json\"\n",
    "\n",
    "real_time_inference_instance_type = (\n",
    "#    \"ml.p4d.24xlarge\"    # Recommended instance\n",
    "#     \"ml.g5.48xlarge\"    # Cheaper and faster - recommended for relatively short inputs/outputs\n",
    "#      \"ml.g5.12xlarge\"    # Even Cheaper and faster - up to 10K characters\n",
    "      \"ml.g4dn.12xlarge\"  #cheapest instance  \n",
    ")\n",
    "\n",
    "# create a deployable model from the model package.\n",
    "model = ModelPackage(\n",
    "    role=role, model_package_arn=model_package_arn, sagemaker_session=sagemaker_session\n",
    ")\n",
    "\n",
    "# Deploy the model\n",
    "predictor = model.deploy(\n",
    "    initial_instance_count=1,\n",
    "    instance_type=real_time_inference_instance_type,\n",
    "    endpoint_name=endpoint_name, \n",
    "    model_data_download_timeout=3600,\n",
    "    container_startup_health_check_timeout=600\n",
    ")"
   ]
  },
  {
   "cell_type": "markdown",
   "id": "776ebf8e-7998-4f5f-a6ae-1437c70af424",
   "metadata": {},
   "source": [
    "# Ask Healthcare Questions Using Contextual Answers\n",
    "\n",
    "Next, we will use Contextual Answers to address inquiries related to this specific patient's health records. Contextual Answers provides a platform that enables us to extract precise information from unstructured data by as natural language questions. Importantly, Contextual Answers will not only answer the questions provided, it will refuse to asnwer questions whose answers are not in the document. By strictly adhering to the text of the document, contextual answers provides increased safety and reliability."
   ]
  },
  {
   "cell_type": "code",
   "execution_count": 31,
   "id": "c2ab6cff-ce3a-43f5-a4db-324cdf116a62",
   "metadata": {},
   "outputs": [],
   "source": [
    "patient_record_context='''\n",
    "# Chief Complaint\n",
    "No complaints.\n",
    "\n",
    "# History of Present Illness\n",
    "Timothy142 is a 6 year-old non-hispanic black male.\n",
    "\n",
    "# Social History\n",
    " Patient has never smoked.\n",
    "\n",
    "Patient comes from a middle socioeconomic background. Patient currently has Humana.\n",
    "\n",
    "# Allergies\n",
    "No Known Allergies.\n",
    "\n",
    "# Medications\n",
    "No Active Medications.\n",
    "\n",
    "# Assessment and Plan\n",
    "\n",
    "\n",
    "## Plan\n",
    "Patient was given the following immunizations: influenza, seasonal, injectable, preservative free. \n",
    "The following procedures were conducted:\n",
    "- medication reconciliation (procedure)\n",
    "'''"
   ]
  },
  {
   "cell_type": "markdown",
   "id": "2ff06623-64b8-4826-b12b-e193f854b6bc",
   "metadata": {},
   "source": [
    "### (Optional) Read from data in S3\n",
    "In complex applications, healthcare data will frequently be stored in data lakes such as S3 object store. In this case, you can read the data from there prior to passing it to AI21's Contextual Answers model.\n",
    "\n",
    "\n"
   ]
  },
  {
   "cell_type": "code",
   "execution_count": 32,
   "id": "d11a3bea-2e49-4cfd-8592-9df84e7525af",
   "metadata": {},
   "outputs": [],
   "source": [
    "import boto3\n",
    "\n",
    "def read_s3_object(s3_url):\n",
    "    if s3_url.startswith('s3://'):\n",
    "        s3_url = s3_url[5:]\n",
    "        bucket_name, object_key = s3_url.split('/', 1)\n",
    "    else:\n",
    "        raise ValueError(\"URL must start with s3://\")\n",
    "    s3 = boto3.client('s3')\n",
    "    obj = s3.get_object(Bucket=bucket_name, Key=object_key)\n",
    "    data = obj['Body'].read()\n",
    "    return data\n",
    "\n",
    "#s3_url = '' #in the format s3://BUCKET/directory/file.txt\n",
    "#data = read_s3_object(s3_url)\n",
    "#context=data.decode('utf-8')"
   ]
  },
  {
   "cell_type": "markdown",
   "id": "b4fed6a2-59b8-4285-b2c0-67e11fd962fa",
   "metadata": {},
   "source": [
    "## Answer Questions whose answers are in the document\n",
    "First we will provide questions that can be directly answered from the document.\n",
    "\n",
    "If the first invokation of the endpoint fails, **just simply rerun the cell**; the first invocation of the endpoint sometimes has an error."
   ]
  },
  {
   "cell_type": "code",
   "execution_count": 33,
   "id": "3ba549cf-b485-4003-9227-06683dbb5ec5",
   "metadata": {},
   "outputs": [],
   "source": [
    "questions=[\"How old is the patient?\",\n",
    "           \"What insurance does the patient have?\", \n",
    "           \"What medical procedures were performed?\"]"
   ]
  },
  {
   "cell_type": "code",
   "execution_count": 36,
   "id": "b3f03806-c128-426c-94cc-51cf20fabd6d",
   "metadata": {},
   "outputs": [
    {
     "name": "stdout",
     "output_type": "stream",
     "text": [
      "Timothy142 is a 6 year-old non-hispanic black male.\n",
      "The patient has Humana\n",
      "The following procedures were conducted:\n",
      "- medication reconciliation (procedure)\n"
     ]
    }
   ],
   "source": [
    "client = AI21SageMakerClient(\n",
    "    endpoint_name=endpoint_name,\n",
    ")\n",
    "for question in questions:\n",
    "    response = client.answer.create(\n",
    "      session=boto_session,\n",
    "      context=patient_record_context,\n",
    "      question=question,\n",
    ")\n",
    "    print(response.answer)\n",
    "        "
   ]
  },
  {
   "cell_type": "code",
   "execution_count": 37,
   "id": "002a265d-50d8-43c9-b04e-5f1345d5e7af",
   "metadata": {},
   "outputs": [],
   "source": [
    "questions_not_in_doc=[\n",
    "    \"What are insurances similar to Humana?\",\n",
    "    \"Does the patient's family have a history of heard disease?\",\n",
    "    \"Is Timothy competent to choose his own medication?\"]"
   ]
  },
  {
   "cell_type": "code",
   "execution_count": 38,
   "id": "6d3ef959-0d40-4cf4-b2fa-1e2beeea4c21",
   "metadata": {},
   "outputs": [
    {
     "name": "stdout",
     "output_type": "stream",
     "text": [
      "Answer not in context\n",
      "Answer not in context\n",
      "Answer not in context\n"
     ]
    }
   ],
   "source": [
    "for question in questions_not_in_doc:\n",
    "    response = client.answer.create(\n",
    "      session=boto_session,\n",
    "      context=patient_record_context,\n",
    "      question=question,\n",
    "     )\n",
    "    answer=response.answer\n",
    "    if response.answer is None:\n",
    "        answer=\"Answer not in context\"\n",
    "    print(answer)\n",
    "        "
   ]
  },
  {
   "cell_type": "markdown",
   "id": "f867c1ca-8b57-4521-9c8a-cc0d896f70a1",
   "metadata": {},
   "source": [
    "Note that Contextual Answers refuses to answer questions that are not in the document; even when there is a possiblity to deduce the answer based on facts outside of the document. For example, given that Timothy is only 6 years old, it is reasonable to assume that he is not competent to choose his own medication. Nevertheless, **because this fact is not explicity said in the document** Contextual Answers correctly does not return any answers. This strict grounding in the document text is desirable in many regulated industries, such as healthcare."
   ]
  },
  {
   "cell_type": "markdown",
   "id": "aa475923-1210-4967-94c9-8d5e4441ceda",
   "metadata": {},
   "source": [
    "## Clean up resources\n",
    "Lastly, we will clean up all created resources, specifically the SageMaker Endpoint\n"
   ]
  },
  {
   "cell_type": "code",
   "execution_count": null,
   "id": "6ca94d24-1194-4e8c-98d2-ce38f23b50d3",
   "metadata": {},
   "outputs": [],
   "source": [
    "model.sagemaker_session.delete_endpoint(endpoint_name)\n",
    "model.sagemaker_session.delete_endpoint_config(endpoint_name)\n",
    "model.delete_model()"
   ]
  },
  {
   "cell_type": "code",
   "execution_count": null,
   "id": "cf9b468e-c9f3-4a5e-b360-1af42d2c01c0",
   "metadata": {},
   "outputs": [],
   "source": []
  },
  {
   "cell_type": "code",
   "execution_count": null,
   "id": "3e111155-3e36-4841-ae98-5021c07b8f2e",
   "metadata": {},
   "outputs": [],
   "source": []
  }
 ],
 "metadata": {
  "kernelspec": {
   "display_name": "Python 3 (ipykernel)",
   "language": "python",
   "name": "python3"
  },
  "language_info": {
   "codemirror_mode": {
    "name": "ipython",
    "version": 3
   },
   "file_extension": ".py",
   "mimetype": "text/x-python",
   "name": "python",
   "nbconvert_exporter": "python",
   "pygments_lexer": "ipython3",
   "version": "3.9.6"
  }
 },
 "nbformat": 4,
 "nbformat_minor": 5
}
