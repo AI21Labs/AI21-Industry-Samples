{
 "cells": [
  {
   "cell_type": "markdown",
   "id": "67b1e952-51e1-4744-b547-969eac076c16",
   "metadata": {},
   "source": [
    "# Enhancing Accuracy in Healthcare Record Interpretation with AI21 Models\n",
    "\n",
    "In the context of healthcare, the veracity of information is paramount. Accurate data is crucial for informed decision-making, enabling healthcare professionals to deliver quality care, reduce misdiagnoses, and prevent adverse events. This notebook shows how to use AI21's [Contextual Answers](https://aws.amazon.com/marketplace/pp/prodview-gwbjdp3tmh3bw) model to derive grounded answers from healthcare documents. In this notebook, we focus on answering questions from patient healthcare records."
   ]
  },
  {
   "cell_type": "markdown",
   "id": "09c4f91a-096b-4b0e-acae-93e10d56c057",
   "metadata": {},
   "source": [
    "## Install and import dependencies"
   ]
  },
  {
   "cell_type": "code",
   "execution_count": null,
   "id": "1eaae4d8-8724-4e7a-a94a-06c7e2f6ea27",
   "metadata": {},
   "outputs": [],
   "source": [
    "!pip install  ai21"
   ]
  },
  {
   "cell_type": "code",
   "execution_count": 2,
   "id": "3ffff635-5b24-4591-b0b7-ea5aa4f57283",
   "metadata": {
    "scrolled": true
   },
   "outputs": [],
   "source": [
    "import json\n",
    "import ai21\n",
    "from ai21 import AI21Client\n",
    "client = AI21Client()\n",
    "#client = AI21Client(api_key='')"
   ]
  },
  {
   "cell_type": "code",
   "execution_count": 3,
   "id": "4815af3a-a54a-403b-b3b2-21aee07eb827",
   "metadata": {},
   "outputs": [],
   "source": [
    "def call_ca(context,question):\n",
    "    response = client.answer.create(\n",
    "      context=context,\n",
    "      question=question)\n",
    "    answer=response.answer\n",
    "    if response.answer is None:\n",
    "        answer=\"None\"\n",
    "    return(answer)"
   ]
  },
  {
   "cell_type": "markdown",
   "id": "a191248c-662a-4227-af85-1a2ce705c13d",
   "metadata": {},
   "source": [
    "# Ask Healthcare Questions Using Contextual Answers\n",
    "\n",
    "Next, we will use Contextual Answers to address inquiries related to this specific patient's health records. Contextual Answers provides a platform that enables us to extract precise information from unstructured data by as natural language questions. Importantly, Contextual Answers will not only answer the questions provided, it will refuse to asnwer questions whose answers are not in the document. By strictly adhering to the text of the document, contextual answers provides increased safety and reliability."
   ]
  },
  {
   "cell_type": "code",
   "execution_count": 4,
   "id": "b1a75828-a1f4-4ace-bd63-9a6621cd9d81",
   "metadata": {},
   "outputs": [],
   "source": [
    "patient_record_context='''\n",
    "# Chief Complaint\n",
    "No complaints.\n",
    "\n",
    "# History of Present Illness\n",
    "Timothy142 is a 6 year-old non-hispanic black male. His parents report that he sometimes has been coughing at night.\n",
    "\n",
    "# Social History\n",
    " Patient has never smoked.\n",
    "\n",
    "Patient comes from a middle socioeconomic background. Patient currently has Humana.\n",
    "\n",
    "# Allergies\n",
    "No Known Allergies.\n",
    "\n",
    "# Medications\n",
    "No Active Medications.\n",
    "\n",
    "# Assessment and Plan\n",
    "\n",
    "\n",
    "## Plan\n",
    "Patient was given the following immunizations: influenza, seasonal, injectable, preservative free. \n",
    "The following procedures were conducted:\n",
    "- medication reconciliation (procedure)\n",
    "'''"
   ]
  },
  {
   "cell_type": "markdown",
   "id": "0d2130d1-4200-4f40-b948-442b4f200e17",
   "metadata": {},
   "source": [
    "### (Optional) Read from data in S3\n",
    "In complex applications, healthcare data will frequently be stored in data lakes such as S3 object store. In this case, you can read the data from there prior to passing it to AI21's Contextual Answers model.\n",
    "\n",
    "\n"
   ]
  },
  {
   "cell_type": "code",
   "execution_count": 5,
   "id": "ec40a4cf-657c-475e-bbe1-648180b54ce6",
   "metadata": {},
   "outputs": [],
   "source": [
    "import boto3\n",
    "\n",
    "def read_s3_object(s3_url):\n",
    "    if s3_url.startswith('s3://'):\n",
    "        s3_url = s3_url[5:]\n",
    "        bucket_name, object_key = s3_url.split('/', 1)\n",
    "    else:\n",
    "        raise ValueError(\"URL must start with s3://\")\n",
    "    s3 = boto3.client('s3')\n",
    "    obj = s3.get_object(Bucket=bucket_name, Key=object_key)\n",
    "    data = obj['Body'].read()\n",
    "    return data\n",
    "\n",
    "#s3_url = '' #in the format s3://BUCKET/directory/file.txt\n",
    "#data = read_s3_object(s3_url)\n",
    "#context=data.decode('utf-8')"
   ]
  },
  {
   "cell_type": "markdown",
   "id": "d204c21a-8564-46fc-9d61-38b6a9ff07b8",
   "metadata": {},
   "source": [
    "## Answer Questions whose answers are in the document\n",
    "First we will provide questions that can be directly answered from the document.\n",
    "\n",
    "If the first invokation of the endpoint fails, **just simply rerun the cell**; the first invocation of the endpoint sometimes has an error."
   ]
  },
  {
   "cell_type": "code",
   "execution_count": 6,
   "id": "0f69d5c4-d6f3-4c66-86c3-1d6752239293",
   "metadata": {},
   "outputs": [],
   "source": [
    "questions=[\"How old is the patient?\",\n",
    "           \"What insurance does the patient have?\", \n",
    "           \"What medical procedures were performed?\"]"
   ]
  },
  {
   "cell_type": "code",
   "execution_count": 7,
   "id": "59624cd1-ebf2-4602-be1b-602cc0cc83f5",
   "metadata": {},
   "outputs": [
    {
     "name": "stdout",
     "output_type": "stream",
     "text": [
      "The patient is 6 years old.\n",
      "The patient has Humana insurance.\n",
      "The medical procedures performed on Timothy142 were medication reconciliation and immunizations.\n"
     ]
    }
   ],
   "source": [
    "\n",
    "for question in questions:\n",
    "    response = call_ca(\n",
    "      context=patient_record_context,\n",
    "      question=question,\n",
    ")\n",
    "    print(response)\n",
    "        "
   ]
  },
  {
   "cell_type": "code",
   "execution_count": 8,
   "id": "d69705c7-b408-4e4e-abff-5396c10f995d",
   "metadata": {},
   "outputs": [],
   "source": [
    "questions_not_in_doc=[\n",
    "    \"What are insurances similar to Humana?\",\n",
    "    \"Does the patient's family have a history of heart disease?\",\n",
    "    \"What are possible medications the patient should be taking?\"]"
   ]
  },
  {
   "cell_type": "code",
   "execution_count": 9,
   "id": "c251ae29-8984-4864-ad92-20f800ecd149",
   "metadata": {},
   "outputs": [
    {
     "name": "stdout",
     "output_type": "stream",
     "text": [
      "None\n",
      "None\n",
      "None\n"
     ]
    }
   ],
   "source": [
    "for question in questions_not_in_doc:\n",
    "    response = call_ca(\n",
    "      context=patient_record_context,\n",
    "      question=question,\n",
    "     )\n",
    "    print(response)"
   ]
  },
  {
   "cell_type": "markdown",
   "id": "84707409-de82-4627-9f2b-187b80a24f04",
   "metadata": {},
   "source": [
    "Note that Contextual Answers refuses to answer questions that are not in the document; even when there is a possiblity to deduce the answer based on facts outside of the document. For example, given that Timothy is only 6 years old, it is reasonable to assume that he is not competent to choose his own medication. Nevertheless, **because this fact is not explicity said in the document** Contextual Answers correctly does not return any answers. This strict grounding in the document text is desirable in many regulated industries, such as healthcare."
   ]
  },
  {
   "cell_type": "code",
   "execution_count": null,
   "id": "a9860449-acc1-4280-a332-2cf5de544951",
   "metadata": {},
   "outputs": [],
   "source": []
  }
 ],
 "metadata": {
  "kernelspec": {
   "display_name": "Python 3 (ipykernel)",
   "language": "python",
   "name": "python3"
  },
  "language_info": {
   "codemirror_mode": {
    "name": "ipython",
    "version": 3
   },
   "file_extension": ".py",
   "mimetype": "text/x-python",
   "name": "python",
   "nbconvert_exporter": "python",
   "pygments_lexer": "ipython3",
   "version": "3.9.6"
  }
 },
 "nbformat": 4,
 "nbformat_minor": 5
}
