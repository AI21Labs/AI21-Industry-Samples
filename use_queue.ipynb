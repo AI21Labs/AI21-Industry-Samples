{
 "cells": [
  {
   "cell_type": "code",
   "execution_count": 28,
   "id": "ef49ed7e-6110-42f9-bd44-2b2425ad6ac3",
   "metadata": {},
   "outputs": [
    {
     "name": "stdout",
     "output_type": "stream",
     "text": [
      "{'MD5OfMessageBody': '1f94d45d26d86ba62d4327a10f41a847', 'MessageId': '5c8c798b-9883-4e5f-9a39-68b7488884e5', 'ResponseMetadata': {'RequestId': '5a88bfc8-f898-55c8-9f48-e1e42ec32f62', 'HTTPStatusCode': 200, 'HTTPHeaders': {'x-amzn-requestid': '5a88bfc8-f898-55c8-9f48-e1e42ec32f62', 'date': 'Thu, 25 Jan 2024 21:35:23 GMT', 'content-type': 'text/xml', 'content-length': '378', 'connection': 'keep-alive'}, 'RetryAttempts': 0}}\n"
     ]
    }
   ],
   "source": [
    "import boto3\n",
    "import json\n",
    "\n",
    "# Initialize the SQS client\n",
    "sqs = boto3.client('sqs')\n",
    "queue_url = 'https://sqs.us-east-1.amazonaws.com/774836287727/ca-queue-MyQueue-XhAkvnSY1Wy9'\n",
    "\n",
    "# Define your context and question\n",
    "context = '''\n",
    "The tower is 330 metres (1,083 ft) tall,[6] about the same\n",
    "height as an 81-storey building, and the tallest structure in Paris. \n",
    "Its base is square, measuring 125 metres (410 ft) on each side. \n",
    "During its construction, the Eiffel Tower surpassed the Washington \n",
    "Monument to become the tallest human-made structure in the world, \n",
    "a title it held for 41 years until the Chrysler Building in New York \n",
    "City was finished in 1930. It was the first structure in the world to surpass both the 200-metre and 300-metre mark in height. \n",
    "Due to the addition of a broadcasting aerial at the top of the tower in 1957, it is now taller than the Chrysler Building by 5.2\n",
    "metres (17 ft). Excluding transmitters, the Eiffel Tower is the second tallest free-standing structure in France after the Millau \n",
    "Viaduct.\n",
    "'''\n",
    "question = 'How tall is the eiffel tower?'\n",
    "\n",
    "# Create the message body as a JSON string\n",
    "message_body = json.dumps({'context': context, 'question': question})\n",
    "\n",
    "# Send the message to the SQS queue\n",
    "response = sqs.send_message(\n",
    "    QueueUrl=queue_url,\n",
    "    MessageBody=message_body\n",
    ")\n",
    "\n",
    "# Print out the response\n",
    "print(response)\n"
   ]
  },
  {
   "cell_type": "code",
   "execution_count": null,
   "id": "b4818815-cf28-4e88-951a-7e30f5bd95dd",
   "metadata": {},
   "outputs": [],
   "source": []
  }
 ],
 "metadata": {
  "kernelspec": {
   "display_name": "Python 3 (ipykernel)",
   "language": "python",
   "name": "python3"
  },
  "language_info": {
   "codemirror_mode": {
    "name": "ipython",
    "version": 3
   },
   "file_extension": ".py",
   "mimetype": "text/x-python",
   "name": "python",
   "nbconvert_exporter": "python",
   "pygments_lexer": "ipython3",
   "version": "3.9.6"
  }
 },
 "nbformat": 4,
 "nbformat_minor": 5
}
