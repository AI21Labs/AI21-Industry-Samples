{
 "cells": [
  {
   "cell_type": "markdown",
   "id": "55ca876c-8ffa-4c24-ba1b-8a4577eef24e",
   "metadata": {},
   "source": [
    "# Generative AI for Non-Binding Loan Term Sheet Creation with AI21 Models on SageMaker and Bedrock\n",
    "When creating loan agreements, Financial Instituions (e.g. Credit Unions, Commercial Banks, Brokerage Firms etc.) need to create [Term Sheets](https://www.investopedia.com/terms/t/termsheet.asp#:~:text=A%20term%20sheet%20is%20a%20nonbinding%20agreement%20outlining%20the%20basic,with%20capital%20to%20fund%20enterprises) ; a non-binding agreement that outlines the terms of a loan. Writing terms sheets can be laborious and complex, and can involve extracting different points of information from call transcripts, company documents, and other sources of information.\n",
    "\n",
    "First, AI21 Contextual Answers is used to extract key information about the potential loan. This is then passed to a chain of Jurassic-2 Foundation Model calls, which will first create an initial draft term sheet, criticise it if it is missing any important sections, and then accordingly adjust it. The finalized term sheet is then generated in the final text box. This is schematically shown below as:\n",
    "\n",
    "![Architecture](img/img_1_alt.png)\n",
    "\n",
    "In this example, we will generate a candidate term sheet between \"ABC Ventures\" the lender, and \"XYZ Tech Solutions\", which is seeking the loan. The input is an unstructured document, and the output will be a structured term-sheet\n",
    "\n"
   ]
  },
  {
   "cell_type": "markdown",
   "id": "bd86d174-b46c-49bb-98c3-53e59ae31985",
   "metadata": {},
   "source": [
    "## Deploy SageMaker Endpoint\n",
    "Set up a real-time inference endpoint named \"contextual-answers\" with a specified content type of \"application/json\". You can choose from a few different instances to use; the ml.p4d.24xlarge will be most performant, but also costly.\n",
    "\n",
    "(Note that the model takes between 5 to 7 minutes to deploy)\n",
    "\n"
   ]
  },
  {
   "cell_type": "code",
   "execution_count": 9,
   "id": "20799780-9934-49da-9181-001e6953f7df",
   "metadata": {},
   "outputs": [],
   "source": [
    "import json\n",
    "from sagemaker import ModelPackage\n",
    "from sagemaker import get_execution_role\n",
    "import sagemaker as sage\n",
    "import boto3\n",
    "from ai21 import AI21SageMakerClient\n",
    "import ai21\n",
    "boto_session = boto3.Session()\n",
    "region = boto3.Session().region_name\n",
    "model_package_arn = ai21.SageMaker.get_model_package_arn(model_name=\"contextual-answers\", region=region)\n",
    "role = get_execution_role()\n",
    "role=\"arn:aws:iam::774836287727:role/service-role/AmazonSageMaker-ExecutionRole-20231205T124436\"\n",
    "sagemaker_session = sage.Session()"
   ]
  },
  {
   "cell_type": "markdown",
   "id": "41dc82fe-b4b4-4341-bb79-bc2768b32f2d",
   "metadata": {},
   "source": [
    "**Note**: You can skip the following cells if you have previously deployed the SageMaker endpoint"
   ]
  },
  {
   "cell_type": "code",
   "execution_count": 6,
   "id": "ba7e0781-d8a7-4632-a69b-a17f04dc9eea",
   "metadata": {},
   "outputs": [],
   "source": [
    "\n",
    "endpoint_name = \"contextual-answers\"\n",
    "\n",
    "content_type = \"application/json\""
   ]
  },
  {
   "cell_type": "code",
   "execution_count": 10,
   "id": "7b936be5-39fb-454a-be1b-2c50e82d1077",
   "metadata": {},
   "outputs": [
    {
     "name": "stdout",
     "output_type": "stream",
     "text": [
      "-------------!"
     ]
    }
   ],
   "source": [
    "\n",
    "real_time_inference_instance_type = (\n",
    "#    \"ml.p4d.24xlarge\"    # Recommended instance\n",
    "#     \"ml.g5.48xlarge\"    # Cheaper and faster - recommended for relatively short inputs/outputs\n",
    "      \"ml.g5.12xlarge\"    # Even Cheaper and faster - up to 10K characters\n",
    "#      \"ml.g4dn.12xlarge\"  #cheapest instance  \n",
    ")\n",
    "\n",
    "# create a deployable model from the model package.\n",
    "model = ModelPackage(\n",
    "    role=role, model_package_arn=model_package_arn, sagemaker_session=sagemaker_session\n",
    ")\n",
    "\n",
    "# Deploy the model\n",
    "predictor = model.deploy(\n",
    "    initial_instance_count=1,\n",
    "    instance_type=real_time_inference_instance_type,\n",
    "    endpoint_name=endpoint_name, \n",
    "    model_data_download_timeout=3600,\n",
    "    container_startup_health_check_timeout=600\n",
    ")"
   ]
  },
  {
   "cell_type": "markdown",
   "id": "63eabb36-7896-428c-a863-434516f70f3f",
   "metadata": {},
   "source": [
    "Import libraries and define key functions"
   ]
  },
  {
   "cell_type": "code",
   "execution_count": 7,
   "id": "4253e038-0951-4e9f-9cc2-61a11588fa32",
   "metadata": {},
   "outputs": [],
   "source": [
    "import json\n",
    "import os\n",
    "os.environ[\"AI21_LOG_LEVEL\"] = \"DEBUG\"\n",
    "from ai21 import AI21Client\n",
    "from ai21 import errors as ai21_errors\n",
    "from ai21 import AI21Client, AI21APIError,AI21SageMakerClient\n",
    "from ai21.models import ChatMessage\n",
    "import re\n",
    "import boto3\n",
    "from docx import Document\n",
    "from concurrent.futures import ThreadPoolExecutor, as_completed\n",
    "\n",
    "\n",
    "#In order to speed up the answer to the questions, we will call AI21 Contextual Answers in Parallel\n",
    "def call_ca_parallel(args):\n",
    "    article, question, category = args\n",
    "    response = client.answer.create(\n",
    "        context=article,\n",
    "        question=question\n",
    "    )\n",
    "    answer = response.answer if response.answer else \"None\"\n",
    "    return category, answer\n",
    "\n",
    "def get_answered_questions(user_input, questions):\n",
    "    answered_questions = {}\n",
    "    unanswered_questions = {}\n",
    "\n",
    "    # Use ThreadPoolExecutor to parallelize the calls\n",
    "    with ThreadPoolExecutor(max_workers=1) as executor:\n",
    "        # Prepare a list of arguments for the call_ca_parallel function\n",
    "        future_to_question = {executor.submit(call_ca_parallel, (user_input, q[category], category)): category for q in questions for category in q}\n",
    "\n",
    "        for future in as_completed(future_to_question):\n",
    "            # When a future is completed, get the results\n",
    "            category, answer = future.result()\n",
    "            if answer != \"None\":\n",
    "                answered_questions[category] = answer\n",
    "            else:\n",
    "                unanswered_questions[category] = \"None\"\n",
    "\n",
    "    return answered_questions, unanswered_questions\n",
    "\n",
    "\n",
    "client = AI21SageMakerClient(\n",
    "    endpoint_name=endpoint_name,\n",
    ")\n"
   ]
  },
  {
   "cell_type": "markdown",
   "id": "fe8cd152-2795-4939-a9c0-8b58484cacda",
   "metadata": {},
   "source": [
    "Next we will define key questions that define a term sheet. Note that you can add your own questions or have Jurassic dynamically create new questions as well. For this notebook though, we will just use these 20 questions."
   ]
  },
  {
   "cell_type": "code",
   "execution_count": 8,
   "id": "2b3975f5-5fee-4009-aa67-8120caa1756b",
   "metadata": {},
   "outputs": [],
   "source": [
    "questions=[\n",
    "    {\"Investment Amount\":\"What is the investment amount being sought by the startup or company?\"},\n",
    "    {\"Security Type\":\"What type of security is being offered to investors?\"},\n",
    "    {\"Pre-Money Evaluation\":\"What is the pre-money valuation of the startup or company?\"},\n",
    "    {\"Post-Money Evaluation\":\"What is the post-money valuation of the startup or company?\"},\n",
    "    {\"Percentage Ownership\":\"What percentage of the company will each investor own after the investment?\"},\n",
    "    {\"Anti-Dilution\":\"What are the terms of the anti-dilution policy?\"},\n",
    "    {\"Divident Policy\":\"What is the company's dividend policy?\"},\n",
    "    {\"Redemption Rights\":\"What redemption rights are available to shareholders?\"},\n",
    "    {\"Liquidation Preference\":\"What are the liquidation preferences specified in the term sheet?\"},\n",
    "    {\"Governance Rights\":\"What governance rights are granted to investors?\"},\n",
    "    {\"Information Rights\":\"What information rights are granted to investors?\"},\n",
    "    {\"Transfer Rights\":\"What are the transfer restrictions on shareholders?\"},\n",
    "    {\"Drag-along Rights\":\"What are the terms of the drag-along rights?\"},\n",
    "    {\"First Refusal\":\"What are the terms for the right of first refusal?\"},\n",
    "    {\"Clawback\":\"What are the clawback terms?\"},\n",
    "    {\"Vesting Terms\":\"What are the vesting terms for equity granted?\"},\n",
    "    {\"Business Model\":\"What is business model of the company seeking the loan?\"},\n",
    "    {\"Closing Conditions\":\"What are the closing conditions for the loan\"},\n",
    "    {\"Collateral\": \"What collateral has the company put up for the loan?\"},\n",
    "    {\"Disclaimers\":\"What disclaimers are mentioned?\"},\n",
    "    \n",
    "]"
   ]
  },
  {
   "cell_type": "markdown",
   "id": "dd8a7a8e-5b59-4fd9-9590-4143a9c5d123",
   "metadata": {},
   "source": [
    "## Create a draft Term Sheet\n",
    "First we will:\n",
    "\n",
    "* Get the answers to the questions that define a term sheet. We will keep track of questions that do not have an answer.\n",
    "\n",
    "* Draft a term sheet based on the question/answer pairs. Note that this is not the final Term Sheet."
   ]
  },
  {
   "cell_type": "code",
   "execution_count": 9,
   "id": "f188a622-3a4e-4874-b204-0fe4d1b61d87",
   "metadata": {},
   "outputs": [],
   "source": [
    "\n",
    "raw_notes=f'''In a negotiation between XYZ Tech Solutions, which provides IT software for financial companies, and ABC Ventures, the focus was on a $2,000,000 equity investment with clear, numerical benchmarks. XYZ Tech, with an EBITDA of $1.2M last year, argued for an $8M pre-money valuation. ABC's investment would shift this to a $10M post-money valuation, granting ABC a 20% stake. The investment terms were sharply defined: Series A Preferred Stock carrying an 8% annual dividend, contingent on XYZ's EBITDA growth of at least 12% per year. As security for a potential loan, XYZ has listed its office buildings and land holdings, which are worth $3,000,000.\n",
    "\n",
    "The proposed term sheet included a full-ratchet anti-dilution clause to protect ABC against devaluation, governance rights including a board seat and veto power on expenditures over $250,000, and quarterly financial audits to ABC. A five-year redemption clause was agreed upon, allowing ABC to exit with a 12% premium if XYZ's EBITDA grows by 20% within the period. This conversation framed a deal focused on financial health, growth metrics, and strategic alignment, streamlining the partnership terms into a concise, numbers-driven term sheet.\n",
    "'''\n",
    "\n",
    "answered_questions, unanswered_questions = get_answered_questions(raw_notes, questions)\n",
    "\n",
    "#keep track of unanswered questions\n",
    "\n",
    "z=list(unanswered_questions.keys())\n",
    "for i in range(0,len(z)):\n",
    "    category=z[i]\n",
    "    for j in range(0,len(questions)):\n",
    "        category_2=list(questions[j].keys())[0]\n",
    "        if category==category_2:\n",
    "            unanswered_questions[category]=list(questions[j].values())[0]\n",
    "list_of_unanswered_questions=list(unanswered_questions.values())\n"
   ]
  },
  {
   "cell_type": "code",
   "execution_count": 17,
   "id": "6169575e-d1b6-4e3a-abdd-11a39e06a3a2",
   "metadata": {},
   "outputs": [
    {
     "name": "stdout",
     "output_type": "stream",
     "text": [
      "\n",
      "Investment Amount: $2,000,000\n",
      "Security Type: Land holdings and office buildings\n",
      "Pre-Money Evaluation: $8,000,000\n",
      "Post-Money Evaluation: $10,000,000\n",
      "Percentage Ownership: 20%\n",
      "Anti-Dilution: Full ratchet clause\n",
      "Dividend Policy: Pay out 8% of annual earnings as dividends\n",
      "Redemption Rights: Five-year redemption clause with a 12% premium if XYZ's EBITDA grows by 20% within the period\n",
      "Governance Rights: Board seat and veto power on expenditures over $250,000\n",
      "Information Rights: Board representation, veto power on certain expenditures, and quarterly financial audits\n",
      "Business Model: IT software for financial companies\n",
      "Collateral: Office buildings and land holdings\n"
     ]
    }
   ],
   "source": [
    "# Create a term sheet based on the answered questions\n",
    "prompt=f'''\n",
    "You are a lending term-sheet writer. Given input data, you will write a term sheet that clearly fills out each section. The term\n",
    "sheet should be clear and succinct. Make sure it is has correct punctuation. \n",
    "\n",
    "An example format is:\n",
    "\n",
    "Investment Amount: $XXX\n",
    "Security Type: ABC\n",
    "Pre-Money Evaluation: $XXX\n",
    "Post-Money Evaluation: $XXX\n",
    "Percentage Ownership: XX%\n",
    "Anti-Dilution: TEXT\n",
    "Dividend Policy: TEXT\n",
    "Redemption Rights: TEXT\n",
    "Governance Rights: TEXT\n",
    "Information Rights: TEXT\n",
    "Business Model: TEXT\n",
    "Collateral: TEXT\n",
    "____\n",
    "\n",
    "Here is the raw information:\n",
    "\n",
    "{answered_questions}\n",
    "\n",
    "Term Sheet:\n",
    "'''\n",
    "\n",
    "from ai21 import AI21BedrockClient, BedrockModelID\n",
    "\n",
    "client = AI21BedrockClient(region='us-east-1') # region is optional, as you can use the env variable instead\n",
    "response = client.completion.create(\n",
    "    prompt=prompt,\n",
    "    model_id=BedrockModelID.J2_ULTRA_V1,\n",
    "    max_tokens=1100,\n",
    "    temperature=0\n",
    ")\n",
    "#print(response.completions[0].data.text)\n",
    "\n",
    "#get the actual text from the response\n",
    "#generated_text = response.completions[0].data.text\n",
    "#generated_text=response.outputs[0].text\n",
    "generated_text=response.completions[0].data.text\n",
    "\n",
    "term_sheet=generated_text\n",
    "print(term_sheet)"
   ]
  },
  {
   "cell_type": "markdown",
   "id": "5d2a8f39-68da-48c6-be3f-cc01dccba35c",
   "metadata": {},
   "source": [
    "## Audit the term sheet\n",
    "Next we will use Jurassic to criticise the draft term sheet. Jurassic will look at the text and the list of missing questions; and generate a criticism of the term sheet based on the missing questions."
   ]
  },
  {
   "cell_type": "code",
   "execution_count": 18,
   "id": "17761592-f901-481b-bbd6-e70c9b20a0bc",
   "metadata": {},
   "outputs": [
    {
     "name": "stdout",
     "output_type": "stream",
     "text": [
      "The term sheet is thorough in its coverage of financial metrics, governance rights, and exit strategies. However, it lacks detail on several key provisions, including liquidation preferences, transfer rights, drag-along rights, right of first refusal, clawback terms, vesting terms, closing conditions, and disclaimers.\n",
      "\n",
      "Liquidation Preferences: The term sheet should specify whether the liquidation preferences are participating, non-participating, or come with a cap.\n",
      "\n",
      "Transfer Restrictions: The term sheet should clarify whether there are any transfer restrictions on shareholders, such as the requirement for shareholder approval or the right of first refusal.\n",
      "\n",
      "Drag-along Rights: The term sheet should specify whether shareholders have the right to force other shareholders to sell their shares in the event of a sale or merger.\n",
      "\n",
      "Right of First Refusal: The term sheet should outline the terms for the right of first refusal, including whether it applies to certain events or to all transfers.\n",
      "\n",
      "Clawback: The term sheet should specify whether there are any clawback provisions, such as the ability to recover equity or compensation if certain performance targets are not met.\n",
      "\n",
      "Vesting Terms: The term sheet should outline the vesting terms for equity granted, including the percentage of equity that vests over time and any conditions or milestones that must be met for vesting to occur.\n",
      "\n",
      "Closing Conditions: The term sheet should specify the conditions that must be satisfied for the loan to close, including any financial or legal due diligence that must be conducted.\n",
      "\n",
      "Disclaimers: The term sheet should mention any disclaimers or limitations of liability, such as the exclusion of certain damages or the application of certain laws.\n"
     ]
    }
   ],
   "source": [
    "prompt=f'''\n",
    "You are a lending term-sheet auditor for ABC Ventures. However, the term sheet notes do not discuss any of the following questions. I want you to write 2 paragraph an\n",
    "analysis of how the term sheet can be improved to answer these questions. Make specific suggestions, listing all of the missing sections.\n",
    "\n",
    "For each missing section, you are to give a one sentence discussion of what is missing from the term sheet. Each criticism should be seperated by a newline.\n",
    "\n",
    "\n",
    "Unanswered Questions:\n",
    "{unanswered_questions}\n",
    "\n",
    "\n",
    "Loan Notes:\n",
    "{raw_notes}\n",
    "\n",
    "\n",
    "\n",
    "Assessment:\n",
    "'''\n",
    "\n",
    "\n",
    "client = AI21BedrockClient(region='us-east-1') # region is optional, as you can use the env variable instead\n",
    "response = client.completion.create(\n",
    "    prompt=prompt,\n",
    "    model_id=BedrockModelID.J2_ULTRA_V1,\n",
    "    max_tokens=1100,\n",
    "    temperature=0\n",
    ")\n",
    "#get the actual text from the response\n",
    "# criticism = response.completions[0].data.text\n",
    "criticism = response.completions[0].data.text\n",
    "print(criticism)"
   ]
  },
  {
   "cell_type": "markdown",
   "id": "398e5237-d726-4e22-be0d-db5bd189688c",
   "metadata": {},
   "source": [
    "## Create an enhanced Term Sheet\n",
    "Next, Jurassic will analyze both the draft term sheet created above, as well as the criticism, and create an enhanced term sheet, which includes new sections for the missing term sheet sections."
   ]
  },
  {
   "cell_type": "code",
   "execution_count": 19,
   "id": "830edfc6-ac6e-4d6e-862a-dacc2a4e15cf",
   "metadata": {},
   "outputs": [
    {
     "name": "stdout",
     "output_type": "stream",
     "text": [
      "Investment Amount: $2,000,000\n",
      "Security Type: Land holdings and office buildings\n",
      "Pre-Money Evaluation: $8,000,000\n",
      "Post-Money Evaluation: $10,000,000\n",
      "Percentage Ownership: 20%\n",
      "Anti-Dilution: Full ratchet clause\n",
      "Dividend Policy: Pay out 8% of annual earnings as dividends\n",
      "Redemption Rights: Five-year redemption clause with a 12% premium if XYZ's EBITDA grows by 20% within the period\n",
      "Governance Rights: Board seat and veto power on expenditures over $250,000\n",
      "Information Rights: Board representation, veto power on certain expenditures, and quarterly financial audits\n",
      "Business Model: IT software for financial companies\n",
      "Collateral: Office buildings and land holdings\n",
      "\n",
      "Liquidation Preferences: Participating with a cap of $2,000,000\n",
      "Transfer Restrictions: Shareholder approval required for transfers\n",
      "Drag-along Rights: Shareholders have the right to force other shareholders to sell their shares in the event of a sale or merger\n",
      "Right of First Refusal: ABC has the right to purchase shares from other shareholders before they are able to sell them to a third party\n",
      "Clawback: Equity and compensation can be recovered if certain performance targets are not met\n",
      "Vesting Terms: 25% of equity vests after one year, 25% after two years, 25% after three years, and 25% after four years\n",
      "Closing Conditions: Financial and legal due diligence must be conducted\n",
      "Disclaimers: Disclaimers and limitations of liability apply\n"
     ]
    }
   ],
   "source": [
    "prompt=f'''\n",
    "You are a lending term-sheet auditor for ABC Ventures. However, the term sheet below is missing sections. You are to generate an enhanced term sheet that includes\n",
    "the missing sections, in the same format as the original term sheet. The list of missing sections is listed in the \"Missing Sections component, including a description of what is missing. The new term sheet must follow the same format as the original term sheet. Do not make comments other than creating a new term sheet. The new term sheet must have one section for each of the criticisms. Do not respond to the criticism; just create a new term sheet.\n",
    "\n",
    "If the term sheet is missing a section, you are expected to fill it in to the best of your ability. Do not just note that the section is missing. \n",
    "\n",
    "For example: \n",
    "\n",
    "Criticism:\n",
    "\n",
    "Right of first refusal are not discussed\n",
    "\n",
    "New clause to address criticism:\n",
    "\n",
    "Right of First Refusal: ABC has the right to purchase shares from other shareholders before they are able to sell them to a third party.\n",
    "\n",
    "Remember, must first include in full the original term sheet, and then add the extra clauses you wish to add. Each new clause should be 1 sentence long.\n",
    "Example format:\n",
    "\n",
    "Investment Amount: $XXX\n",
    "Security Type: ABC\n",
    "Pre-Money Evaluation: $XXX\n",
    "Post-Money Evaluation: $XXX\n",
    "Percentage Ownership: XX%\n",
    "Anti-Dilution: TEXT\n",
    "Dividend Policy: TEXT\n",
    "Redemption Rights: TEXT\n",
    "Governance Rights: TEXT\n",
    "Information Rights: TEXT\n",
    "Business Model: TEXT\n",
    "Collateral: TEXT\n",
    "Liquidation Preferences: [the  liquidation clause]\n",
    "Vesting Terms: [the vesting clause]\n",
    "Claw-back terms: [the terms]\n",
    "\n",
    "\n",
    " ________\n",
    "\n",
    "Original Term Sheet:\n",
    "{term_sheet}\n",
    "\n",
    "Missing Sections:\n",
    "{criticism}\n",
    "\n",
    " Enhanced Term Sheet:\n",
    "\n",
    "'''\n",
    "#print(prompt)\n",
    "\n",
    "response = client.completion.create(\n",
    "    prompt=prompt,\n",
    "    model_id=BedrockModelID.J2_ULTRA_V1,\n",
    "    max_tokens=1700,\n",
    "    temperature=0\n",
    ")\n",
    "\n",
    "#get the actual text from the response\n",
    "#new_term_sheet_1 = response.completions[0].data.text\n",
    "new_term_sheet_1=response.completions[0].data.text\n",
    "print(new_term_sheet_1)"
   ]
  },
  {
   "cell_type": "markdown",
   "id": "efaa23df-4bb6-462e-a7ee-4ef6afbebec2",
   "metadata": {},
   "source": [
    "## Save New Term Sheet as a document\n",
    "Now we will save the term sheet as a .docx document. "
   ]
  },
  {
   "cell_type": "code",
   "execution_count": 37,
   "id": "6f90fba3-8de4-42dc-bf50-b98c90cf316a",
   "metadata": {},
   "outputs": [],
   "source": [
    "doc = Document()\n",
    "doc.add_heading('Enhanced Term Sheet', level=1)\n",
    "\n",
    "# You might need to preprocess the term sheet text to split it into paragraphs\n",
    "# or apply any other formatting you want. This is a simple example:\n",
    "term_sheet_lines = new_term_sheet_1.split('\\n')\n",
    "for line in term_sheet_lines:\n",
    "    if line.strip() != '':\n",
    "        doc.add_paragraph(line)\n",
    "\n",
    "# Save the document\n",
    "docx_file_path = 'enhanced_term_sheet.docx'\n",
    "doc.save(docx_file_path)"
   ]
  },
  {
   "cell_type": "markdown",
   "id": "f19048f5-ae80-4904-8055-cf8532bbdbd5",
   "metadata": {},
   "source": [
    "The output should look like this (although note that your specific results may vary). Note that the \"Enhanced\" term sheet includes the terms within the notes, as well as Jurassic's attempt to fill in the missing sections:\n",
    "\n",
    "![Architecture](img/img_2.png)"
   ]
  },
  {
   "cell_type": "markdown",
   "id": "123c0d13-f370-4c63-8d6f-688b95b516ca",
   "metadata": {},
   "source": [
    "## Clean up resources\n",
    "Lastly, we will clean up all created resources, specifically the SageMaker Endpoint"
   ]
  },
  {
   "cell_type": "code",
   "execution_count": null,
   "id": "950b9558-b090-4677-b1d7-e8f8554cf1d4",
   "metadata": {},
   "outputs": [],
   "source": [
    "model.sagemaker_session.delete_endpoint(endpoint_name)\n",
    "model.sagemaker_session.delete_endpoint_config(endpoint_name)\n",
    "model.delete_model()"
   ]
  }
 ],
 "metadata": {
  "kernelspec": {
   "display_name": "Python 3 (ipykernel)",
   "language": "python",
   "name": "python3"
  },
  "language_info": {
   "codemirror_mode": {
    "name": "ipython",
    "version": 3
   },
   "file_extension": ".py",
   "mimetype": "text/x-python",
   "name": "python",
   "nbconvert_exporter": "python",
   "pygments_lexer": "ipython3",
   "version": "3.9.6"
  }
 },
 "nbformat": 4,
 "nbformat_minor": 5
}
