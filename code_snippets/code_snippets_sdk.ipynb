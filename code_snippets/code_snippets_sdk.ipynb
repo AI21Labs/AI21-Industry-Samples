{
 "cells": [
  {
   "cell_type": "markdown",
   "id": "44dbbad8-1184-4496-8437-d4512a0f9ec9",
   "metadata": {},
   "source": [
    "# Code Snippets\n",
    "This notebook walks through the basics of how to use the AI21 Client (v2.0.1); giving a few code snippets you can use in your own work."
   ]
  },
  {
   "cell_type": "markdown",
   "id": "3ba82a5c-8017-44cb-a8dc-32b21541ff9b",
   "metadata": {},
   "source": [
    "## Instantiate the AI21 client with supressing most output\n",
    "This will be the first step that you use when using AI21 models. Run this before executing the snippets below.\n",
    "The AI21 client will produce many logs the standard output. If you wish to supress these, you can use:\n"
   ]
  },
  {
   "cell_type": "code",
   "execution_count": 4,
   "id": "0464507f-3246-4c97-9d38-35ec1f533986",
   "metadata": {},
   "outputs": [],
   "source": [
    "from ai21 import AI21Client\n",
    "\n",
    "client = AI21Client() #uses the environment variable \n",
    "#If you wish to pass your api key as a string, you can use the following code\n",
    "#client = AI21Client(api_key='my_api_key')\n",
    "import json\n",
    "import os\n",
    "os.environ[\"AI21_LOG_LEVEL\"] = \"DEBUG\"\n",
    "\n",
    "from ai21 import AI21Client\n",
    "client = AI21Client()"
   ]
  },
  {
   "cell_type": "markdown",
   "id": "f053c53a-67b5-4096-8854-9522b4889713",
   "metadata": {},
   "source": [
    "## Call the Summarize Task Specific Model\n",
    "\n",
    "AI21 Task specific models (TSM) are foundaiton models that perform specific tasks well. In this case, we will call the AI21 Summarize TSM via the AI21 client."
   ]
  },
  {
   "cell_type": "code",
   "execution_count": 12,
   "id": "7c9eeb2c-d670-4ec8-b9b0-531728e203e1",
   "metadata": {},
   "outputs": [
    {
     "name": "stdout",
     "output_type": "stream",
     "text": [
      "The summarize Task Specific model is designed to read text and create a short form summary.\n"
     ]
    }
   ],
   "source": [
    "article='''\n",
    "The summarize Task Specific model is designed to read in the text; and create a summary\n",
    "of it that is high accuracy with low hallucination rates. The summary will be a short form summary; and is\n",
    "designed to be clear and consice.\n",
    "'''\n",
    "response = client.summarize.create(\n",
    "  source=article,\n",
    "  source_type=\"TEXT\" \n",
    ")\n",
    "\n",
    "summary=response.summary\n",
    "print(summary)"
   ]
  },
  {
   "cell_type": "markdown",
   "id": "140180f4-0ce8-4513-b9f9-785b03df3ee3",
   "metadata": {},
   "source": [
    "## Call Jurassic 2\n",
    "You can also call Jurassic-2 from the AI21 client"
   ]
  },
  {
   "cell_type": "code",
   "execution_count": null,
   "id": "a30f35a5-dcc3-4083-a4bb-583ea0a29215",
   "metadata": {
    "scrolled": true
   },
   "outputs": [],
   "source": [
    "\n",
    "prompt=\"write 1 paragraph about the financial industry\"\n",
    "response = client.completion.create(\n",
    "    model=\"j2-ultra\",  # You can choose from various models like j2-light, j2-mid, j2-ultra\n",
    "    prompt=prompt,\n",
    "    max_tokens=300,\n",
    "    temperature=0.7\n",
    ")\n",
    "\n",
    "#get the actual text from the response\n",
    "generated_text = response.completions[0].data.text\n",
    "print(generated_text)"
   ]
  },
  {
   "cell_type": "markdown",
   "id": "2a1df79f-e1f7-490e-9c6f-4c6237f7a3f8",
   "metadata": {},
   "source": [
    "## Call Contextual Answers"
   ]
  },
  {
   "cell_type": "code",
   "execution_count": 5,
   "id": "59b4bfee-a5fb-4ace-82f1-2c006f3a6407",
   "metadata": {},
   "outputs": [
    {
     "name": "stdout",
     "output_type": "stream",
     "text": [
      "The company's quarterly earnings for last year were quite impressive, with a net income of over $2 billion and a profit increase of nearly 20% from the previous year.\n"
     ]
    }
   ],
   "source": [
    "article='''\n",
    "AnyCompany is a multinational corporation that offers a wide range of products and services. The company's quarterly\n",
    "earnings for last year were quite impressive, with a net income of over $2 billion and a profit increase of nearly 20% \n",
    "from the previous year. Despite the challenges posed by the pandemic, AnyCompany managed to maintain a strong financial \n",
    "performance, thanks to the efforts of its dedicated employees and management team.\n",
    "'''\n",
    "response = client.answer.create(\n",
    "  context=article,\n",
    "  question=\"What were the quarterly earnings?\" \n",
    ")\n",
    "\n",
    "answer=response.answer\n",
    "print(answer)"
   ]
  },
  {
   "cell_type": "code",
   "execution_count": 6,
   "id": "8bcd6b2e-d275-468d-a8f7-699ff2cc9187",
   "metadata": {},
   "outputs": [
    {
     "name": "stdout",
     "output_type": "stream",
     "text": [
      "AnswerResponse(id='41adb774-17ce-4d67-3607-dcda8ed3475b', answer_in_context=True, answer=\"The company's quarterly earnings for last year were quite impressive, with a net income of over $2 billion and a profit increase of nearly 20% from the previous year.\")\n"
     ]
    }
   ],
   "source": [
    "print(response)"
   ]
  },
  {
   "cell_type": "markdown",
   "id": "1afca8b4-ce9e-43a7-9e36-c3d3c26fb59c",
   "metadata": {},
   "source": [
    "## Create a contextual answers endpoint in Amazon SageMaker\n"
   ]
  },
  {
   "cell_type": "code",
   "execution_count": null,
   "id": "5b2e6274-0ddf-4354-8105-82d0787864ad",
   "metadata": {},
   "outputs": [],
   "source": [
    "from sagemaker import ModelPackage\n",
    "from sagemaker import get_execution_role\n",
    "import sagemaker as sage\n",
    "import boto3\n",
    "from ai21 import AI21SageMakerClient\n",
    "import ai21\n",
    "model_package_arn = ai21.SageMaker.get_model_package_arn(model_name=\"contextual-answers\", region=region)\n",
    "role = get_execution_role()\n",
    "sagemaker_session = sage.Session()\n",
    "endpoint_name = \"contextual-answers\"\n",
    "\n",
    "content_type = \"application/json\"\n",
    "\n",
    "real_time_inference_instance_type = (\n",
    "#    \"ml.p4d.24xlarge\"    # Recommended instance\n",
    "#     \"ml.g5.48xlarge\"    # Cheaper and faster - recommended for relatively short inputs/outputs\n",
    "#      \"ml.g5.12xlarge\"    # Even Cheaper and faster - up to 10K characters\n",
    "      \"ml.g4dn.12xlarge\"  #cheapest instance  \n",
    ")\n",
    "\n",
    "# create a deployable model from the model package.\n",
    "model = ModelPackage(\n",
    "    role=role, model_package_arn=model_package_arn, sagemaker_session=sagemaker_session\n",
    ")\n",
    "\n",
    "# Deploy the model\n",
    "predictor = model.deploy(\n",
    "    initial_instance_count=1,\n",
    "    instance_type=real_time_inference_instance_type,\n",
    "    endpoint_name=endpoint_name, \n",
    "    model_data_download_timeout=3600,\n",
    "    container_startup_health_check_timeout=600\n",
    ")"
   ]
  },
  {
   "cell_type": "markdown",
   "id": "a2844d10-ab8e-4941-85be-499c7c8cff2c",
   "metadata": {},
   "source": [
    "## Call Contextual Answers from Amazon SageMaker\n",
    "call contextual answers answers from an existing endpoint"
   ]
  },
  {
   "cell_type": "code",
   "execution_count": 16,
   "id": "376b1f5f-2201-477b-b8fd-faab91fcb939",
   "metadata": {},
   "outputs": [
    {
     "name": "stdout",
     "output_type": "stream",
     "text": [
      "AnswerResponse(id='3dc1bd68-765d-4b75-ae4e-fbe887a38ddd', answer_in_context=True, answer=\"The company's quarterly earnings for last year were quite impressive, with a net income of over $2 billion and a profit increase of nearly 20% from the previous year.\")\n"
     ]
    }
   ],
   "source": [
    "from ai21 import AI21SageMakerClient\n",
    "import boto3\n",
    "boto_session = boto3.Session(region_name=\"us-east-1\")\n",
    "\n",
    "article='''\n",
    "AnyCompany is a multinational corporation that offers a wide range of products and services. The company's quarterly\n",
    "earnings for last year were quite impressive, with a net income of over $2 billion and a profit increase of nearly 20% \n",
    "from the previous year. Despite the challenges posed by the pandemic, AnyCompany managed to maintain a strong financial \n",
    "performance, thanks to the efforts of its dedicated employees and management team.\n",
    "'''\n",
    "client = AI21SageMakerClient(\n",
    "    endpoint_name=\"Endpoint-AI21-Contextual-Answers-1\",\n",
    ")\n",
    "response = client.answer.create(\n",
    "  session=boto_session,\n",
    "  context=article,\n",
    "  question=\"What were the quarterly earnings?\",\n",
    ")\n",
    "\n",
    "print(response)\n",
    "#answer=response.answer\n",
    "#print(answer)"
   ]
  },
  {
   "cell_type": "markdown",
   "id": "b677a62e-28f4-44e0-9f2c-91e61578f8d1",
   "metadata": {},
   "source": [
    "## Serialize AI21 model responses to JSON\n",
    "You can save ai21 model responses to json using the to_json() method"
   ]
  },
  {
   "cell_type": "code",
   "execution_count": 7,
   "id": "a335b3a0-0e27-4a44-ad50-b31cbe16b911",
   "metadata": {
    "scrolled": true
   },
   "outputs": [
    {
     "data": {
      "text/plain": [
       "'{\"id\": \"41adb774-17ce-4d67-3607-dcda8ed3475b\", \"answerInContext\": true, \"answer\": \"The company\\'s quarterly earnings for last year were quite impressive, with a net income of over $2 billion and a profit increase of nearly 20% from the previous year.\"}'"
      ]
     },
     "execution_count": 7,
     "metadata": {},
     "output_type": "execute_result"
    }
   ],
   "source": [
    "response.to_json()"
   ]
  },
  {
   "cell_type": "markdown",
   "id": "74ac5178-2229-44c7-9582-e4d63cba151e",
   "metadata": {},
   "source": [
    "## Call AI21 summarize Task Specific Model"
   ]
  },
  {
   "cell_type": "code",
   "execution_count": 1,
   "id": "f3d2b0f5-0899-4e99-b986-0947770129ad",
   "metadata": {},
   "outputs": [],
   "source": [
    "role=\"arn:aws:iam::774836287727:role/service-role/AmazonSageMaker-ExecutionRole-20231205T124436\""
   ]
  },
  {
   "cell_type": "code",
   "execution_count": null,
   "id": "d5853c63-4a91-4933-aa78-4a81739292b6",
   "metadata": {},
   "outputs": [],
   "source": [
    "# Expanding the '~' in the output file path\n",
    "output_file = os.path.expanduser(output_file)\n",
    "\n",
    "file_details = []\n",
    "\n",
    "for directory in directories:\n",
    "    # Expanding the '~' in each directory path\n",
    "    directory = os.path.expanduser(directory)\n",
    "\n",
    "    for root, dirs, files in os.walk(directory):\n",
    "        # Exclude hidden directories\n",
    "        dirs[:] = [d for d in dirs if not d.startswith('.')]\n",
    "        "
   ]
  },
  {
   "cell_type": "code",
   "execution_count": 5,
   "id": "4cd732ce-2d57-4e0d-878b-221d4f17e50a",
   "metadata": {},
   "outputs": [
    {
     "name": "stdout",
     "output_type": "stream",
     "text": [
      "SummarizeResponse(id='6c6f2d1d-a5c3-4907-9157-d10568a75d3d', summary='Passengers were warned it may be days before they are reunited with luggage, and were informed by e-mail of the problem. They took to social media to vent their frustrations.')\n"
     ]
    }
   ],
   "source": [
    "from ai21 import AI21SageMakerClient\n",
    "import boto3\n",
    "boto_session = boto3.Session(region_name=\"us-east-1\")\n",
    "\n",
    "article='''\n",
    "The error affected a number of international flights leaving the terminal on Wednesday, with some airlines urging passengers to travel only with hand luggage.\n",
    "Virgin Atlantic said all airlines flying out of the terminal had been affected.\n",
    "Passengers have been warned it may be days before they are reunited with luggage.\n",
    "An airport spokesperson apologised and said the fault had now been fixed.\n",
    "Virgin Atlantic said it would ensure all bags were sent out as soon as possible.\n",
    "It added customers should retain receipts for anything they had bought and make a claim to be reimbursed.\n",
    "Passengers, who were informed by e-mail of the problem, took to social media to vent their frustrations.\n",
    "One branded the situation \"ludicrous\" and said he was only told 12 hours before his flight.\n",
    "The airport said it could not confirm what the problem was, what had caused it or how many people had been affected.\n",
    "'''\n",
    "client = AI21SageMakerClient(\n",
    "    endpoint_name=\"summarize\",\n",
    ")\n",
    "response = client.summarize.create(\n",
    "  session=boto_session,\n",
    "  source=article,\n",
    "  source_type=\"TEXT\",\n",
    ")\n",
    "\n",
    "print(response)"
   ]
  },
  {
   "cell_type": "markdown",
   "id": "abace0de-8ce7-4f48-a1ed-bffb41bda57b",
   "metadata": {},
   "source": [
    "## "
   ]
  },
  {
   "cell_type": "code",
   "execution_count": null,
   "id": "f1e143c7-bbdb-4100-a3ce-1c47571ce252",
   "metadata": {},
   "outputs": [],
   "source": []
  },
  {
   "cell_type": "markdown",
   "id": "bbfbf436-ccf6-4b41-ab30-c0afc4e4d646",
   "metadata": {},
   "source": [
    "## "
   ]
  },
  {
   "cell_type": "code",
   "execution_count": null,
   "id": "1b17772d-4e4c-4650-bf15-b897a192b694",
   "metadata": {},
   "outputs": [],
   "source": []
  },
  {
   "cell_type": "markdown",
   "id": "8098b1e3-6bc8-45b3-9a6d-9419c2e9c5cc",
   "metadata": {},
   "source": [
    "## "
   ]
  },
  {
   "cell_type": "code",
   "execution_count": null,
   "id": "170be639-7bcf-407a-a774-f6cabf22d192",
   "metadata": {},
   "outputs": [],
   "source": []
  },
  {
   "cell_type": "markdown",
   "id": "83a618df-75d3-443a-a660-a6603458c480",
   "metadata": {},
   "source": [
    "## "
   ]
  },
  {
   "cell_type": "code",
   "execution_count": null,
   "id": "ee6a85ec-1242-4286-9a76-b5088d69ae4b",
   "metadata": {},
   "outputs": [],
   "source": []
  },
  {
   "cell_type": "markdown",
   "id": "56476f52-586a-463d-82c5-00a05807b32b",
   "metadata": {},
   "source": [
    "## "
   ]
  },
  {
   "cell_type": "code",
   "execution_count": null,
   "id": "bfad9d95-fa4f-422b-9d12-4d18a3e1f354",
   "metadata": {},
   "outputs": [],
   "source": []
  },
  {
   "cell_type": "markdown",
   "id": "13437da4-0513-4a8a-a34e-0e06ee603e50",
   "metadata": {},
   "source": [
    "## "
   ]
  },
  {
   "cell_type": "code",
   "execution_count": null,
   "id": "6a38d40c-302c-46ab-890b-f773bd79986a",
   "metadata": {},
   "outputs": [],
   "source": []
  },
  {
   "cell_type": "markdown",
   "id": "2037abd6-ac50-421b-9cff-76ec12d1e9d9",
   "metadata": {},
   "source": [
    "## "
   ]
  },
  {
   "cell_type": "code",
   "execution_count": null,
   "id": "29b33e03-c409-4082-95eb-9540fc974e63",
   "metadata": {},
   "outputs": [],
   "source": []
  },
  {
   "cell_type": "markdown",
   "id": "8c6dac48-79f0-419e-85bd-630a66937f0c",
   "metadata": {},
   "source": [
    "## "
   ]
  },
  {
   "cell_type": "code",
   "execution_count": null,
   "id": "c37eba46-2ce8-4042-b179-29f5f8d74a23",
   "metadata": {},
   "outputs": [],
   "source": []
  },
  {
   "cell_type": "markdown",
   "id": "074da85d-a0a3-422a-8c13-c7ece51f7c17",
   "metadata": {},
   "source": [
    "## "
   ]
  },
  {
   "cell_type": "code",
   "execution_count": null,
   "id": "bec406d1-4c9f-422e-b47a-b0b02c4cf76c",
   "metadata": {},
   "outputs": [],
   "source": []
  },
  {
   "cell_type": "markdown",
   "id": "c4a572bf-647d-4d5e-87f3-eed3523c178e",
   "metadata": {},
   "source": [
    "## "
   ]
  },
  {
   "cell_type": "code",
   "execution_count": null,
   "id": "dd501ea1-0bff-45a2-9c79-b79095a8a05a",
   "metadata": {},
   "outputs": [],
   "source": []
  },
  {
   "cell_type": "markdown",
   "id": "453a0c63-7a56-413a-b95d-7ef91666a0a3",
   "metadata": {},
   "source": [
    "## "
   ]
  },
  {
   "cell_type": "code",
   "execution_count": null,
   "id": "9eaaae80-b296-4373-aab2-56629f0cfaa0",
   "metadata": {},
   "outputs": [],
   "source": []
  },
  {
   "cell_type": "markdown",
   "id": "8038c8ac-001f-4708-968e-e6d39d0f82ff",
   "metadata": {},
   "source": [
    "## "
   ]
  },
  {
   "cell_type": "code",
   "execution_count": null,
   "id": "2e26b098-5db0-4a7c-b28b-c07553df3033",
   "metadata": {},
   "outputs": [],
   "source": []
  },
  {
   "cell_type": "markdown",
   "id": "050627ce-5677-4b99-b4cc-24d19a50998f",
   "metadata": {},
   "source": [
    "## "
   ]
  },
  {
   "cell_type": "code",
   "execution_count": null,
   "id": "1ec768af-6182-4ab9-8f1e-7c56cb14cd7b",
   "metadata": {},
   "outputs": [],
   "source": []
  },
  {
   "cell_type": "markdown",
   "id": "70270c26-0036-4b3f-b161-206bc9c88158",
   "metadata": {},
   "source": [
    "## "
   ]
  },
  {
   "cell_type": "code",
   "execution_count": null,
   "id": "3d92df4b-126a-468a-9918-4583fb11ff00",
   "metadata": {},
   "outputs": [],
   "source": []
  }
 ],
 "metadata": {
  "kernelspec": {
   "display_name": "Python 3 (ipykernel)",
   "language": "python",
   "name": "python3"
  },
  "language_info": {
   "codemirror_mode": {
    "name": "ipython",
    "version": 3
   },
   "file_extension": ".py",
   "mimetype": "text/x-python",
   "name": "python",
   "nbconvert_exporter": "python",
   "pygments_lexer": "ipython3",
   "version": "3.9.6"
  }
 },
 "nbformat": 4,
 "nbformat_minor": 5
}
