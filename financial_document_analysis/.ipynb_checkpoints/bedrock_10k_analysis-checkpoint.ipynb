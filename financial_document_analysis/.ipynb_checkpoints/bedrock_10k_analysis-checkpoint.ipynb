{
 "cells": [
  {
   "cell_type": "markdown",
   "id": "26397bea-29e7-4185-b03f-0ae80685de9b",
   "metadata": {},
   "source": [
    "# Using Jamba Instruct on Bedrock for Analyzing Financial Documents \n",
    "Jamba-Instruct can be used to analyze financial documents. In this notebook, we will first load the Amazon's 10K filing (downloaded from [here](https://d18rn0p25nwr6d.cloudfront.net) and can then ask questions about it. This report has about 40,000 words."
   ]
  },
  {
   "cell_type": "code",
   "execution_count": 1,
   "id": "2469f0ac-becf-4c94-84c8-d68c9cb15f3c",
   "metadata": {},
   "outputs": [],
   "source": [
    "# Required imports\n",
    "import os\n",
    "import json\n",
    "import requests\n",
    "# Function to read the contents of the files\n",
    "def read_file(file_path):\n",
    "    with open(file_path, 'r') as file:\n",
    "        return file.read()\n",
    "\n",
    "# Paths to the text files\n",
    "document = '10k.txt'\n",
    "\n",
    "# Required imports\n",
    "import os\n",
    "import json\n",
    "import requests\n",
    "import time\n",
    "import boto3\n",
    "# Function to read the contents of the files\n",
    "def read_file(file_path):\n",
    "    with open(file_path, 'r') as file:\n",
    "        return file.read()\n",
    "\n",
    "def _call_bedrock_jamba(prompt,**kwargs):\n",
    "    bedrock = boto3.client(service_name=\"bedrock-runtime\")\n",
    "    body={\n",
    "        \"messages\":[{\"role\":\"user\",\"content\":prompt}],\n",
    "        \"max_tokens\": 1024,\n",
    "        \"top_p\": 0.8,\n",
    "        \"temperature\": 0.7,\n",
    "    }\n",
    "    body.update(kwargs)\n",
    "    body = json.dumps(body)\n",
    "    \n",
    "    modelId = \"ai21.jamba-instruct-v1:0\"\n",
    "    \n",
    "    accept = \"application/json\"\n",
    "    contentType = \"application/json\"\n",
    "    \n",
    "    response = bedrock.invoke_model(\n",
    "        body=body,\n",
    "        modelId=modelId,\n",
    "        accept=accept,\n",
    "        contentType=contentType\n",
    "    )\n",
    "    result=json.loads(response.get('body').read())\n",
    "    return result['choices'][0]['message']['content']\n",
    "\n",
    "def call_bedrock_jamba(prompt, **kwargs):\n",
    "    attempts = 0\n",
    "    while attempts < 5:\n",
    "        try:\n",
    "            return _call_bedrock_jamba(prompt, **kwargs)\n",
    "        except Exception as e:\n",
    "            print(e)\n",
    "            attempts += 1\n",
    "            print(f\"Attempt {attempts}: Failed to call API, retrying in 3 seconds...\")\n",
    "            time.sleep(3)\n",
    "    raise Exception(\"Failed to complete the API call after 5 attempts\")"
   ]
  },
  {
   "cell_type": "markdown",
   "id": "4e3bfe13-2244-486e-add5-925b837e6d83",
   "metadata": {},
   "source": [
    "## Ask a Question\n",
    "Next we will ask a question from the document, passing the entire content of the document to the prompt. "
   ]
  },
  {
   "cell_type": "code",
   "execution_count": 2,
   "id": "23d22a19-6f7b-476e-b01c-3cdf219c30d7",
   "metadata": {},
   "outputs": [
    {
     "name": "stdout",
     "output_type": "stream",
     "text": [
      "Answer:\n",
      " In 2019, Amazon's primary revenue-generating activities included:\n",
      "\n",
      "1. **Online stores**: This includes product sales and digital media content where Amazon records revenue gross. They leverage their retail infrastructure to offer a wide selection of consumable and durable goods that includes media products available in both a physical and digital format, such as books, music, videos, games, and software.\n",
      "\n",
      "\n",
      "2. **Physical stores**: This includes product sales where customers physically select items in a store. Sales from customers who order goods online for delivery or pickup at Amazon's physical stores are included in “Online stores.”\n",
      "\n",
      "\n",
      "3. **Third-party seller services**: Amazon offers programs that enable sellers to sell their products in Amazon's stores and fulfill orders through Amazon. Amazon is not the seller of record in these transactions. The commissions and any related fulfillment and shipping fees Amazon earns from these arrangements are recognized when the services are rendered.\n",
      "\n",
      "\n",
      "4. **Subscription services**: This includes annual and monthly fees associated with Amazon Prime memberships, as well as audiobook, digital video, digital music, e-book, and other non-AWS subscription services.\n",
      "\n",
      "\n",
      "5. **Other (includes sales of advertising services, as well as sales related to Amazon's other service offerings).**\n"
     ]
    }
   ],
   "source": [
    "\n",
    "question=\"What was Amazon's revenue generating activity in 2019?\"\n",
    "document_content=read_file(document)\n",
    "q_a_prompt = f\"\"\"\n",
    "You are an excellent research assistant. Based the following \"Document Content\" do your best to answer the question posed.\n",
    "Keep your answer strictly grounded in the document, and if the answer cannot be found in the document, just say \"I do not know\"\n",
    "\n",
    "Document Content:\n",
    "\n",
    "{document_content}\n",
    "\n",
    "Question: \n",
    "{question}\n",
    "\n",
    "Answer to Question:\n",
    "\"\"\"\n",
    "\n",
    "#print(comparison_prompt)\n",
    "# Call the API\n",
    "\n",
    "#print(q_a_prompt)\n",
    "\n",
    "\n",
    "answer = call_bedrock_jamba(q_a_prompt,temperature=.7)\n",
    "\n",
    "# Print the comparison result\n",
    "print(\"Answer:\")\n",
    "print(answer)\n"
   ]
  },
  {
   "cell_type": "code",
   "execution_count": null,
   "id": "96022eaa-d445-4e66-a888-47cd7eb3d384",
   "metadata": {},
   "outputs": [],
   "source": []
  }
 ],
 "metadata": {
  "kernelspec": {
   "display_name": "Python 3.12.2",
   "language": "python",
   "name": "python-3.12.2"
  },
  "language_info": {
   "codemirror_mode": {
    "name": "ipython",
    "version": 3
   },
   "file_extension": ".py",
   "mimetype": "text/x-python",
   "name": "python",
   "nbconvert_exporter": "python",
   "pygments_lexer": "ipython3",
   "version": "3.12.4"
  }
 },
 "nbformat": 4,
 "nbformat_minor": 5
}
