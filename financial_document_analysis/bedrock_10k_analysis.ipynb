{
 "cells": [
  {
   "cell_type": "markdown",
   "id": "26397bea-29e7-4185-b03f-0ae80685de9b",
   "metadata": {},
   "source": [
    "# Using Jamba on Amazon Bedrock for Analyzing Financial Documents \n",
    "Jamba can be used to analyze financial documents. In this notebook, we will first load the Amazon's 10K filing (downloaded from [here](https://d18rn0p25nwr6d.cloudfront.net) and can then ask questions about it. This report has about 40,000 words."
   ]
  },
  {
   "cell_type": "code",
   "execution_count": 11,
   "id": "2469f0ac-becf-4c94-84c8-d68c9cb15f3c",
   "metadata": {},
   "outputs": [],
   "source": [
    "# Required imports\n",
    "import os\n",
    "import json\n",
    "import requests\n",
    "import time\n",
    "\n",
    "import boto3\n"
   ]
  },
  {
   "cell_type": "code",
   "execution_count": 12,
   "id": "f639a59a",
   "metadata": {},
   "outputs": [],
   "source": [
    "# Function to read the contents of the files\n",
    "def read_file(file_path):\n",
    "    with open(file_path, 'r') as file:\n",
    "        return file.read()\n",
    "\n",
    "# Paths to the text files\n",
    "document = '10k.txt'\n",
    "\n",
    "document_content=read_file(document)"
   ]
  },
  {
   "cell_type": "code",
   "execution_count": 13,
   "id": "979f2bcf",
   "metadata": {},
   "outputs": [],
   "source": [
    "def _call_bedrock_jamba(prompt,**kwargs):\n",
    "    bedrock = boto3.client(service_name=\"bedrock-runtime\")\n",
    "    \n",
    "    body={\n",
    "        \"messages\":[{\"role\":\"user\",\"content\":prompt}],\n",
    "        \"max_tokens\": 1024,\n",
    "        \"top_p\": 0.8,\n",
    "        \"temperature\": 0.7,\n",
    "    }\n",
    "    \n",
    "    body.update(kwargs)\n",
    "    body = json.dumps(body)\n",
    "    \n",
    "    modelId = \"ai21.jamba-1-5-large-v1:0\"\n",
    "    \n",
    "    accept = \"application/json\"\n",
    "    contentType = \"application/json\"\n",
    "    \n",
    "    response = bedrock.invoke_model(\n",
    "        body=body,\n",
    "        modelId=modelId,\n",
    "        accept=accept,\n",
    "        contentType=contentType\n",
    "    )\n",
    "\n",
    "    print(\"response: \", response)\n",
    "    \n",
    "    result=json.loads(response.get('body').read())\n",
    "    return result['choices'][0]['message']['content']"
   ]
  },
  {
   "cell_type": "code",
   "execution_count": 14,
   "id": "c41f1cf8",
   "metadata": {},
   "outputs": [],
   "source": [
    "\n",
    "def call_jamba(prompt, **kwargs):\n",
    "    attempts = 0\n",
    "    while attempts < 5:\n",
    "        try:\n",
    "            return _call_bedrock_jamba(prompt, **kwargs)\n",
    "        except Exception as e:\n",
    "            print(e)\n",
    "            attempts += 1\n",
    "            print(f\"Attempt {attempts}: Failed to call API, retrying in 3 seconds...\")\n",
    "            time.sleep(3)\n",
    "    raise Exception(\"Failed to complete the API call after 5 attempts\")"
   ]
  },
  {
   "cell_type": "markdown",
   "id": "4e3bfe13-2244-486e-add5-925b837e6d83",
   "metadata": {},
   "source": [
    "## Ask a Question\n",
    "Next we will ask a question from the document, passing the entire content of the document to the prompt. "
   ]
  },
  {
   "cell_type": "code",
   "execution_count": 15,
   "id": "cffbd621",
   "metadata": {},
   "outputs": [],
   "source": [
    "question=\"What was Amazon's revenue generating activity in 2019?\""
   ]
  },
  {
   "cell_type": "code",
   "execution_count": 16,
   "id": "23d22a19-6f7b-476e-b01c-3cdf219c30d7",
   "metadata": {},
   "outputs": [],
   "source": [
    "\n",
    "q_a_prompt = f\"\"\"\n",
    "You are an excellent research assistant. Based the following \"Document Content\" do your best to answer the question posed.\n",
    "Keep your answer strictly grounded in the document, and if the answer cannot be found in the document, just say \"I do not know\"\n",
    "\n",
    "Document Content:\n",
    "\n",
    "{document_content}\n",
    "\n",
    "Question: \n",
    "{question}\n",
    "\n",
    "Answer to Question:\n",
    "\"\"\"\n"
   ]
  },
  {
   "cell_type": "code",
   "execution_count": null,
   "id": "507486fc",
   "metadata": {},
   "outputs": [],
   "source": [
    "answer = call_jamba(q_a_prompt,temperature=.7)\n",
    "\n",
    "# Print the result\n",
    "print(\"Answer:\")\n",
    "print(answer)"
   ]
  },
  {
   "cell_type": "code",
   "execution_count": null,
   "id": "96022eaa-d445-4e66-a888-47cd7eb3d384",
   "metadata": {},
   "outputs": [],
   "source": []
  }
 ],
 "metadata": {
  "kernelspec": {
   "display_name": ".venv",
   "language": "python",
   "name": "python3"
  },
  "language_info": {
   "codemirror_mode": {
    "name": "ipython",
    "version": 3
   },
   "file_extension": ".py",
   "mimetype": "text/x-python",
   "name": "python",
   "nbconvert_exporter": "python",
   "pygments_lexer": "ipython3",
   "version": "3.12.4"
  }
 },
 "nbformat": 4,
 "nbformat_minor": 5
}
