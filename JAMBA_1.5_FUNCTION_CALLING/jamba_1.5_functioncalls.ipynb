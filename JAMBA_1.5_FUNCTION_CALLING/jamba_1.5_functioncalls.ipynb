{
 "cells": [
  {
   "cell_type": "markdown",
   "metadata": {},
   "source": [
    "# Jamba 1.5 Family Function Calling Examples\n",
    "\n",
    "This notebook demonstrates single and multiple function calls to Jamba, showcasing how to extend Large Language Models (LLMs) with external capabilities. By integrating function calling, LLMs can access real-time data, perform specific tasks, and provide more accurate and relevant responses. This approach enhances LLMs' problem-solving abilities and reduces the risk of generating incorrect information."
   ]
  },
  {
   "cell_type": "markdown",
   "metadata": {},
   "source": [
    "### Import Required Libraries"
   ]
  },
  {
   "cell_type": "code",
   "execution_count": 10,
   "metadata": {},
   "outputs": [],
   "source": [
    "# import required libraries\n",
    "from ai21 import AI21Client\n",
    "from ai21.logger import set_verbose\n",
    "from ai21.models.chat import ChatMessage, ToolMessage\n",
    "from ai21.models.chat.function_tool_definition import FunctionToolDefinition\n",
    "from ai21.models.chat.tool_defintions import ToolDefinition\n",
    "from ai21.models.chat.tool_parameters import ToolParameters\n",
    "import json, requests\n",
    "\n",
    "\n",
    "# create an instance of the AI21Client\n",
    "# Sign up for a free account at https://studio.ai21.com/auth\n",
    "# Once you are signed up, find you API Key at https://studio.ai21.com/account/api-key\n",
    "client = AI21Client(api_key='YOUR_AI21_API_KEY',)"
   ]
  },
  {
   "cell_type": "markdown",
   "metadata": {},
   "source": [
    "### API Access\n",
    "Both of the examples in this notebook require an Alpha Vantage API key. Keys are free for anyone (for limited use) and can provide up to date financial information for investors and traders programmatically."
   ]
  },
  {
   "cell_type": "code",
   "execution_count": 11,
   "metadata": {},
   "outputs": [],
   "source": [
    "# https://www.alphavantage.co/support/#api-key\n",
    "# You'll need to sign up for a free API key at Alpha Vantage, these are free for limited usage\n",
    "ALPHA_VANTAGE_API_KEY = 'YOUR_ALPHAVANTAGE_API_KEY'"
   ]
  },
  {
   "cell_type": "markdown",
   "metadata": {},
   "source": [
    "### Example 1 | Using Jamba to Call a Single Function"
   ]
  },
  {
   "cell_type": "code",
   "execution_count": 18,
   "metadata": {},
   "outputs": [],
   "source": [
    "# Define the stock information function\n",
    "def get_stock_info(symbol: str) -> dict:\n",
    "    url = f\"https://www.alphavantage.co/query?function=GLOBAL_QUOTE&symbol={symbol}&apikey={ALPHA_VANTAGE_API_KEY}\"\n",
    "    response = requests.get(url)\n",
    "    data = response.json()\n",
    "   \n",
    "    # https://www.alphavantage.co/documentation/\n",
    "    if \"Global Quote\" in data:\n",
    "        quote = data[\"Global Quote\"]\n",
    "        return {\n",
    "            \"symbol\": quote.get(\"01. symbol\", \"N/A\"),\n",
    "            \"price\": quote.get(\"05. price\", \"N/A\"),\n",
    "            \"change\": quote.get(\"09. change\", \"N/A\"),\n",
    "            \"change_percent\": quote.get(\"10. change percent\", \"N/A\"),\n",
    "            \"last_trading_day\": quote.get(\"07. latest trading day\", \"N/A\")\n",
    "        }\n",
    "    else:\n",
    "        return None"
   ]
  },
  {
   "cell_type": "code",
   "execution_count": 28,
   "metadata": {},
   "outputs": [
    {
     "data": {
      "text/plain": [
       "{'symbol': 'AAPL',\n",
       " 'price': '226.3700',\n",
       " 'change': '-1.0000',\n",
       " 'change_percent': '-0.4398%',\n",
       " 'last_trading_day': '2024-09-25'}"
      ]
     },
     "execution_count": 28,
     "metadata": {},
     "output_type": "execute_result"
    }
   ],
   "source": [
    "# Test the function manually w/o Jamba to verify results\n",
    "get_stock_info(\"AAPL\")"
   ]
  },
  {
   "cell_type": "code",
   "execution_count": 19,
   "metadata": {},
   "outputs": [],
   "source": [
    "# Initialize chat messages\n",
    "messages = [\n",
    "    ChatMessage(\n",
    "        role=\"system\",\n",
    "        content=\"You are a helpful stock market assistant. Use the supplied tool to retrieve the latest stock information for users. Always include the stock price and the percentage change in your response.\"\n",
    "    ),\n",
    "    ChatMessage(role=\"user\", content=\"Can you tell me the latest stock price and percentage change for Apple (AAPL)?\"),\n",
    "]"
   ]
  },
  {
   "cell_type": "code",
   "execution_count": 20,
   "metadata": {},
   "outputs": [],
   "source": [
    "# Define the tool for getting stock information\n",
    "tool_definition = ToolDefinition(\n",
    "    type=\"function\",\n",
    "    function=FunctionToolDefinition(\n",
    "        name=\"get_stock_info\",\n",
    "        description=\"Get the latest stock information for a given stock symbol\",\n",
    "        parameters=ToolParameters(\n",
    "            type=\"object\",\n",
    "            properties={\n",
    "                \"symbol\": {\"type\": \"string\", \"description\": \"The stock symbol (e.g., AAPL for Apple)\"}\n",
    "            },\n",
    "            required=[\"symbol\"],\n",
    "        ),\n",
    "    ),\n",
    ")"
   ]
  },
  {
   "cell_type": "code",
   "execution_count": 26,
   "metadata": {},
   "outputs": [
    {
     "name": "stdout",
     "output_type": "stream",
     "text": [
      "Final response:\n",
      "The latest stock price for Apple (AAPL) is 226.37. The stock has changed by -1.00, which is a percentage change of -0.4398%.\n"
     ]
    }
   ],
   "source": [
    "# Create a list of tools\n",
    "tools = [tool_definition]\n",
    "\n",
    "# Make the initial request to the model\n",
    "response = client.chat.completions.create(messages=messages, model=\"jamba-1.5-large\", tools=tools)\n",
    "\n",
    "# Process the response and handle tool calls\n",
    "assistant_message = response.choices[0].message\n",
    "messages.append(assistant_message)  # Adding the assistant message to the chat history\n",
    "result = None\n",
    "tool_calls = assistant_message.tool_calls\n",
    "\n",
    "if tool_calls:\n",
    "    tool_call = tool_calls[0]\n",
    "    if tool_call.function.name == \"get_stock_info\":\n",
    "        func_arguments = json.loads(tool_call.function.arguments)\n",
    "        if \"symbol\" in func_arguments:\n",
    "            result = get_stock_info(func_arguments[\"symbol\"])\n",
    "        else:\n",
    "            print(\"Missing 'symbol' in function arguments\")\n",
    "    else:\n",
    "        print(f\"Unexpected tool call found - {tool_call.function.name}\")\n",
    "else:\n",
    "    print(\"No tool calls found\")\n",
    "\n",
    "if result is not None:\n",
    "    # Continue the conversation by passing the stock information result back to the model\n",
    "    tool_message = ToolMessage(role=\"tool\", tool_call_id=tool_calls[0].id, content=json.dumps(result))\n",
    "    messages.append(tool_message)\n",
    "    response = client.chat.completions.create(messages=messages, model=\"jamba-1.5-large\", tools=tools)\n",
    "    print(\"Final response:\")\n",
    "    print(response.choices[0].message.content)"
   ]
  },
  {
   "cell_type": "markdown",
   "metadata": {},
   "source": [
    "### Example 2 | Using Jamba to call Multiple Functions"
   ]
  },
  {
   "cell_type": "code",
   "execution_count": 30,
   "metadata": {},
   "outputs": [],
   "source": [
    "# define the function to get the stock information from Alpha Vantage\n",
    "def get_stock_info(symbol: str) -> dict:\n",
    "    url = f\"https://www.alphavantage.co/query?function=GLOBAL_QUOTE&symbol={symbol}&apikey={ALPHA_VANTAGE_API_KEY}\"\n",
    "    response = requests.get(url)\n",
    "    data = response.json()\n",
    "   \n",
    "    if \"Global Quote\" in data:\n",
    "        quote = data[\"Global Quote\"]\n",
    "        return {\n",
    "            \"symbol\": quote.get(\"01. symbol\", \"0\"),\n",
    "            \"price\": float(quote.get(\"05. price\", \"0\")),\n",
    "            \"change\": quote.get(\"09. change\", \"N/A\"),\n",
    "            \"change_percent\": quote.get(\"10. change percent\", \"N/A\"),\n",
    "            \"last_trading_day\": quote.get(\"07. latest trading day\", \"N/A\")\n",
    "        }\n",
    "    else:\n",
    "        return None"
   ]
  },
  {
   "cell_type": "code",
   "execution_count": 31,
   "metadata": {},
   "outputs": [],
   "source": [
    "# define the function to calculate the value of the shares\n",
    "def calculate_share_value(price: float, shares: int) -> float:\n",
    "    return price * shares"
   ]
  },
  {
   "cell_type": "code",
   "execution_count": 32,
   "metadata": {},
   "outputs": [],
   "source": [
    "# Define the messages for the chat, the first message is a system message to provide guidance to the user\n",
    "# The second message is the user message that will be processed by the assistant\n",
    "messages = [\n",
    "    ChatMessage(\n",
    "        role=\"system\",\n",
    "        content=\"You are a helpful stock market assistant. Use the supplied tools to assist the user with stock information and calculations. Always use the get_stock_info tool first to retrieve the latest stock price, then use the calculate_share_value tool to determine the total value of shares. Always provide both the stock price and the calculated share value in your final response.\"\n",
    "    ),\n",
    "    ChatMessage(role=\"user\", content=\"Can you tell me the latest stock price for nVidia and calculate the value of 400 shares?\"),\n",
    "]"
   ]
  },
  {
   "cell_type": "code",
   "execution_count": 33,
   "metadata": {},
   "outputs": [],
   "source": [
    "# define to Jamba how to handle the api call to get the stock information\n",
    "get_stock_info_tool = ToolDefinition(\n",
    "    type=\"function\",\n",
    "    function=FunctionToolDefinition(\n",
    "        name=\"get_stock_info\",\n",
    "        description=\"Get the latest stock information for a given stock symbol\",\n",
    "        parameters=ToolParameters(\n",
    "            type=\"object\",\n",
    "            properties={\n",
    "                \"symbol\": {\"type\": \"string\", \"description\": \"The stock symbol (e.g., AAPL for Apple)\"}\n",
    "            },\n",
    "            required=[\"symbol\"],\n",
    "        ),\n",
    "    ),\n",
    ")\n",
    "\n",
    "# define to Jamba how to calculate the share value\n",
    "calculate_share_value_tool = ToolDefinition(\n",
    "    type=\"function\",\n",
    "    function=FunctionToolDefinition(\n",
    "        name=\"calculate_share_value\",\n",
    "        description=\"Calculate the total value of shares by multiplying price times number of shares\",\n",
    "        parameters=ToolParameters(\n",
    "            type=\"object\",\n",
    "            properties={\n",
    "                \"price\": {\"type\": \"number\", \"description\": \"The price per share\"},\n",
    "                \"shares\": {\"type\": \"integer\", \"description\": \"The number of shares\"}\n",
    "            },\n",
    "            required=[\"price\", \"shares\"],\n",
    "        ),\n",
    "    ),\n",
    ")"
   ]
  },
  {
   "cell_type": "code",
   "execution_count": 34,
   "metadata": {},
   "outputs": [],
   "source": [
    "# define the tools to be used\n",
    "tools = [get_stock_info_tool, calculate_share_value_tool]\n",
    "\n",
    "# Make the initial request to the model\n",
    "def process_tool_calls(assistant_message):\n",
    "    tool_call_id_to_result = {}\n",
    "    tool_calls = assistant_message.tool_calls\n",
    "    if tool_calls:\n",
    "        for tool_call in tool_calls:\n",
    "            if tool_call.function.name == \"get_stock_info\":\n",
    "                func_arguments = json.loads(tool_call.function.arguments)\n",
    "                if \"symbol\" in func_arguments:\n",
    "                    result = get_stock_info(func_arguments[\"symbol\"])\n",
    "                    tool_call_id_to_result[tool_call.id] = result\n",
    "                else:\n",
    "                    print(f\"Got unexpected arguments in function call - {func_arguments}\")\n",
    "            elif tool_call.function.name == \"calculate_share_value\":\n",
    "                func_arguments = json.loads(tool_call.function.arguments)\n",
    "                if \"price\" in func_arguments and \"shares\" in func_arguments:\n",
    "                    result = calculate_share_value(func_arguments[\"price\"], func_arguments[\"shares\"])\n",
    "                    tool_call_id_to_result[tool_call.id] = result\n",
    "                else:\n",
    "                    print(f\"Got unexpected arguments in function call - {func_arguments}\")\n",
    "            else:\n",
    "                print(f\"Unexpected tool call found - {tool_call.function.name}\")\n",
    "    return tool_call_id_to_result\n",
    "\n",
    "# Initial response\n",
    "response = client.chat.completions.create(messages=messages, model=\"jamba-1.5-large\", tools=tools)\n",
    "assistant_message = response.choices[0].message\n",
    "messages.append(assistant_message)\n",
    "tool_call_id_to_result = process_tool_calls(assistant_message)"
   ]
  },
  {
   "cell_type": "code",
   "execution_count": null,
   "metadata": {},
   "outputs": [],
   "source": [
    "# OPTIONAL | If both tools weren't used, prompt for completion\n",
    "# if len(tool_call_id_to_result) < 2:\n",
    "#     messages.append(ChatMessage(\n",
    "#         role=\"user\",\n",
    "#         content=\"Please make sure to calculate the value of 100 shares using the stock price you retrieved.\"\n",
    "#     ))\n",
    "#     response = client.chat.completions.create(messages=messages, model=\"jamba-1.5-large\", tools=tools)\n",
    "#     assistant_message = response.choices[0].message\n",
    "#     messages.append(assistant_message)\n",
    "    \n",
    "#     additional_results = process_tool_calls(assistant_message)\n",
    "#     tool_call_id_to_result.update(additional_results)"
   ]
  },
  {
   "cell_type": "code",
   "execution_count": 35,
   "metadata": {},
   "outputs": [
    {
     "data": {
      "text/plain": [
       "'The latest stock price for nVidia (NVDA) is 123.51. The value of 400 shares is 49404.0.'"
      ]
     },
     "execution_count": 35,
     "metadata": {},
     "output_type": "execute_result"
    }
   ],
   "source": [
    "# Add tool results to messages\n",
    "for tool_id_called, result in tool_call_id_to_result.items():\n",
    "    tool_message = ToolMessage(role=\"tool\", tool_call_id=tool_id_called, content=str(result))\n",
    "    messages.append(tool_message)\n",
    "\n",
    "# Final response\n",
    "response = client.chat.completions.create(messages=messages, model=\"jamba-1.5-large\", tools=tools)\n",
    "final_response = response.choices[0].message.content\n",
    "final_response"
   ]
  }
 ],
 "metadata": {
  "kernelspec": {
   "display_name": "Python 3",
   "language": "python",
   "name": "python3"
  },
  "language_info": {
   "codemirror_mode": {
    "name": "ipython",
    "version": 3
   },
   "file_extension": ".py",
   "mimetype": "text/x-python",
   "name": "python",
   "nbconvert_exporter": "python",
   "pygments_lexer": "ipython3",
   "version": "3.11.1"
  }
 },
 "nbformat": 4,
 "nbformat_minor": 2
}
