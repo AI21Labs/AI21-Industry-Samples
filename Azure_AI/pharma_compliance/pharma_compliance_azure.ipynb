{
 "cells": [
  {
   "cell_type": "markdown",
   "id": "RHwMVM4OUOS4",
   "metadata": {
    "id": "RHwMVM4OUOS4"
   },
   "source": [
    "# Using Jamba1.5 for Standard Operating Procedures and Regulatory Document Long Context Analysis with Azure AI\n",
    "\n",
    "In the pharmaceutical industry, regulatory compliance is crucial for ensuring the safety and efficacy of drug products. Regulatory bodies like the FDA establish detailed guidelines for drug manufacturing processes, which companies must align with through their Standard Operating Procedures (SOPs). Drug compliance officers play a key role in this by reviewing SOPs to identify and rectify any inconsistencies with regulatory standards. Automation tools, such as AI-based comparison systems, can streamline this process by efficiently analyzing and highlighting discrepancies between SOPs and regulatory documents, thereby enhancing compliance accuracy and ensuring the continuous quality of pharmaceutical products.\n",
    "\n",
    "In this notebook, we use the Jamba model to analyze Subpart E Title 21 of the Code of Federal Regulations. The model is employed to perform contradiction detection, determining whether a mock Standard Operating Procedure is consistent with the regulatory document."
   ]
  },
  {
   "cell_type": "markdown",
   "id": "4a10c9ac",
   "metadata": {},
   "source": [
    "### Getting Started with Azure Foundry and Jamba Models\n",
    "\n",
    "Azure Foundry provides a powerful platform for deploying, managing, and leveraging advanced AI models like AI21's Jamba for a variety of use cases. The Jamba models are highly optimized for complex language understanding and generation tasks, making them an ideal choice for regulatory compliance, customer service automation, and more.å\n",
    "\n",
    "#### Key Features of Jamba on Azure Foundry:\n",
    "- **High Accuracy**: Jamba models excel at processing large text contexts and performing sophisticated natural language tasks.\n",
    "- **Seamless Integration**: Deploy Jamba models effortlessly into your existing Azure ecosystem.\n",
    "- **Customizability**: Tailor prompts and configurations to fit specific business needs.\n",
    "- **Scalability**: Leverage Azure’s robust infrastructure for reliable and scalable model deployment.\n",
    "\n",
    "#### Deployment Process Overview:\n",
    "1. **Set Up Your Azure AI Studio**:\n",
    "   - Create an Azure resource for your AI models.\n",
    "   - Ensure you have an appropriate subscription and permissions.\n",
    "\n",
    "2. **Deploy Jamba Models**:\n",
    "   - Use Azure AI Studio to configure and deploy the Jamba model version suitable for your application (e.g., `jamba-1.5-large`).\n",
    "\n",
    "3. **Integrate with Applications**:\n",
    "   - Use Azure SDKs or REST APIs to integrate the deployed Jamba model with your applications.\n",
    "   - Customize input prompts and response handling for optimal outcomes.\n",
    "\n",
    "4. **Monitor and Optimize**:\n",
    "   - Monitor usage and performance through Azure AI Studio's analytics tools.\n",
    "   - Optimize configurations like temperature, token limits, and top-p values for specific tasks.\n",
    "\n",
    "#### Learn More\n",
    "For further instructions on getting started with Jamba on Azure Foundry, refer to the [official Microsoft documentation](https://learn.microsoft.com/en-us/azure/ai-studio/how-to/deploy-models-jamba?tabs=ai21-jamba-1-5-large). \n",
    "\n",
    "This documentation provides detailed steps for:\n",
    "- Setting up resources\n",
    "- Deploying AI21 Jamba models\n",
    "- Using APIs and SDKs\n",
    "- Troubleshooting and best practices\n"
   ]
  },
  {
   "cell_type": "code",
   "execution_count": null,
   "id": "KMEAE4VaxFDGrZaS7pERgoDR",
   "metadata": {
    "id": "KMEAE4VaxFDGrZaS7pERgoDR",
    "tags": []
   },
   "outputs": [],
   "source": [
    "# Install the Azure AI Inference library\n",
    "# pip install azure-ai-inference\n",
    "\n",
    "import os\n",
    "from azure.ai.inference import ChatCompletionsClient\n",
    "from azure.ai.inference.models import SystemMessage, UserMessage\n",
    "from azure.core.credentials import AzureKeyCredential\n",
    "\n",
    "# Define the Azure endpoint and model name\n",
    "endpoint = \"<YOUR_AZURE_ENDPOINT>\"  # Replace with your Azure endpoint URL\n",
    "model_name = \"AI21-Jamba-1.5-Large\"  # Use the specific model deployment name\n",
    "\n",
    "# Initialize the ChatCompletionsClient\n",
    "client = ChatCompletionsClient(\n",
    "    endpoint=endpoint,\n",
    "    credential=AzureKeyCredential(\"<YOUR_API_KEY>\")  # Replace with your Azure API key\n",
    ")\n",
    "\n"
   ]
  },
  {
   "cell_type": "markdown",
   "id": "92632be7",
   "metadata": {},
   "source": [
    "## Load Data and Create Prompt Templates\n"
   ]
  },
  {
   "cell_type": "code",
   "execution_count": null,
   "id": "1d1d0953",
   "metadata": {},
   "outputs": [],
   "source": [
    "# Paths to the text files\n",
    "sample_sop_path = 'sample_sop.txt'\n",
    "subpart_path = 'Subpart_E_163_190.txt'\n",
    "\n",
    "# Read the contents of the files\n",
    "sample_sop_content = read_file(sample_sop_path)\n",
    "subpart_content = read_file(subpart_path)\n",
    "\n",
    "# Create a prompt for the AI21 endpoint\n",
    "comparison_prompt = f\"\"\"\n",
    "You are a drug compliance officer. You examine Standard Operating Procedures (SOP) to see if they are consistent with regulations.\n",
    "\n",
    "You are to find all the contradictions betweeen the Standard Operating Procedures and the regulatory document provided.\n",
    "\n",
    "Explain clearly what the contradiction is, what the SOP says, and how it contradicts the Regulatory Document.\n",
    "\n",
    "Standard Operating Procedure:\n",
    "{sample_sop_content}\n",
    "\n",
    "Regulatory Document:\n",
    "{subpart_content}\n",
    "\n",
    "Please analyze the documents and determine if the content of the Standard Operating Procedure is consistent with the Regulatory Document.\n",
    "Highlight any and all discrepancies.\n",
    "\n",
    "Specifically, focus on any **blatant contradictions**, where the \"Standard Operating Procedure\" specifies a procedure that directly contradicts the \"Regulatory Document.\"\n",
    "\n",
    "All Contradictions Results:"
   ]
  },
  {
   "cell_type": "markdown",
   "id": "PQq8yk3iVPaS",
   "metadata": {
    "id": "PQq8yk3iVPaS"
   },
   "source": [
    "## Call Jamba"
   ]
  },
  {
   "cell_type": "code",
   "execution_count": null,
   "id": "CAseR4ZaUAp6",
   "metadata": {
    "id": "CAseR4ZaUAp6"
   },
   "outputs": [],
   "source": [
    "# Define the input messages\n",
    "messages = [\n",
    "    SystemMessage(content=\"\"),\n",
    "    UserMessage(content=comparison_prompt)\n",
    "]\n",
    "\n",
    "# Send the request to the Jamba model\n",
    "response = client.complete(\n",
    "    messages=messages,\n",
    "    temperature=0.7,  # Adjust as needed for response variability\n",
    "    top_p=1.0,\n",
    "    max_tokens=1000,\n",
    "    model=model_name\n",
    ")\n",
    "\n",
    "# Print the response content\n",
    "print(\"Response from Jamba Model:\", response.choices[0].message.content)\n"
   ]
  }
 ],
 "metadata": {
  "colab": {
   "name": "joshuab (Dec 25, 2024, 9:42:28 AM)",
   "provenance": []
  },
  "kernelspec": {
   "display_name": "Python 3",
   "language": "python",
   "name": "python3"
  },
  "language_info": {
   "codemirror_mode": {
    "name": "ipython",
    "version": 3
   },
   "file_extension": ".py",
   "mimetype": "text/x-python",
   "name": "python",
   "nbconvert_exporter": "python",
   "pygments_lexer": "ipython3",
   "version": "3.10.10"
  }
 },
 "nbformat": 4,
 "nbformat_minor": 5
}
