{
 "cells": [
  {
   "cell_type": "markdown",
   "id": "5c9dd2a1-655f-44e2-a77a-d11577c94766",
   "metadata": {},
   "source": [
    "# Using Jamba Instruct on Bedrock for Standard Operating Procedures and Regulatory Document Analysis\n",
    "In the pharmaceutical industry, regulatory compliance is crucial for ensuring the safety and efficacy of drug products. Regulatory bodies like the FDA establish detailed guidelines for drug manufacturing processes, which companies must align with through their Standard Operating Procedures (SOPs). Drug compliance officers play a key role in this by reviewing SOPs to identify and rectify any inconsistencies with regulatory standards. Automation tools, such as AI-based comparison systems, can streamline this process by efficiently analyzing and highlighting discrepancies between SOPs and regulatory documents, thereby enhancing compliance accuracy and ensuring the continuous quality of pharmaceutical products.\n",
    "\n",
    "In this notebook, we use AI21's Jamba Instruct model analyze Subpart E Title 21 of the [Code of Fedral Regulations](https://www.govinfo.gov/app/collection/cfr/2023/title21/chapterI/subchapterC/part211), this section is nearly 30 pages long. We will use Jamba-Instruct to perform contradiction detection, to see if a mock Standard Operating Procedure is consistent with the the regulatory document."
   ]
  },
  {
   "cell_type": "code",
   "execution_count": 3,
   "id": "2b7ed457-729a-41e3-af62-b6c76c12d4a6",
   "metadata": {},
   "outputs": [],
   "source": [
    "# Required imports\n",
    "import os\n",
    "import json\n",
    "import requests\n",
    "import time\n",
    "import boto3\n",
    "# Function to read the contents of the files\n",
    "def read_file(file_path):\n",
    "    with open(file_path, 'r') as file:\n",
    "        return file.read()\n",
    "\n",
    "def _call_bedrock_jamba(prompt,**kwargs):\n",
    "    bedrock = boto3.client(service_name=\"bedrock-runtime\")\n",
    "    body={\n",
    "        \"messages\":[{\"role\":\"user\",\"content\":prompt}],\n",
    "        \"max_tokens\": 1024,\n",
    "        \"top_p\": 0.8,\n",
    "        \"temperature\": 0.7,\n",
    "    }\n",
    "    body.update(kwargs)\n",
    "    body = json.dumps(body)\n",
    "    \n",
    "    modelId = \"ai21.jamba-instruct-v1:0\"\n",
    "    \n",
    "    accept = \"application/json\"\n",
    "    contentType = \"application/json\"\n",
    "    \n",
    "    response = bedrock.invoke_model(\n",
    "        body=body,\n",
    "        modelId=modelId,\n",
    "        accept=accept,\n",
    "        contentType=contentType\n",
    "    )\n",
    "    result=json.loads(response.get('body').read())\n",
    "    return result['choices'][0]['message']['content']\n",
    "\n",
    "def call_bedrock_jamba(prompt, **kwargs):\n",
    "    attempts = 0\n",
    "    while attempts < 5:\n",
    "        try:\n",
    "            return _call_bedrock_jamba(prompt, **kwargs)\n",
    "        except Exception as e:\n",
    "            print(e)\n",
    "            attempts += 1\n",
    "            print(f\"Attempt {attempts}: Failed to call API, retrying in 3 seconds...\")\n",
    "            time.sleep(3)\n",
    "    raise Exception(\"Failed to complete the API call after 5 attempts\")"
   ]
  },
  {
   "cell_type": "markdown",
   "id": "34be735e-1882-4b54-bea7-c3c0cb60fe85",
   "metadata": {},
   "source": [
    "Read in the SOP and Regulatory Document"
   ]
  },
  {
   "cell_type": "code",
   "execution_count": 4,
   "id": "ec782a5b-2aaa-4483-badf-b452fd647870",
   "metadata": {},
   "outputs": [],
   "source": [
    "# Paths to the text files\n",
    "sample_sop_path = 'sample_sop.txt'\n",
    "subpart_path = 'Subpart_E_163_190.txt'\n",
    "\n",
    "# Read the contents of the files\n",
    "sample_sop_content = read_file(sample_sop_path)\n",
    "subpart_content = read_file(subpart_path)\n"
   ]
  },
  {
   "cell_type": "markdown",
   "id": "73652b75-a847-409d-8fff-77e9cbfae165",
   "metadata": {},
   "source": [
    "## Prompt Jamba-Instruct model\n",
    "\n",
    "Next, we will prompt the Jamba-Instruct model to look for specific contradictions. Note that we also are using a system prompt, to have Jamba Instruct take on the role of a compliance officer."
   ]
  },
  {
   "cell_type": "code",
   "execution_count": 5,
   "id": "69b96734-ea7e-4aa8-8c97-a08734099dd2",
   "metadata": {},
   "outputs": [],
   "source": [
    "# Create a prompt for the AI21 endpoint\n",
    "comparison_prompt = f\"\"\"\n",
    "You are a drug compliance officer. You examine Standard Operating Procedures (SOP) to see if they are consistent with regulations.\n",
    "\n",
    "\n",
    "Explain clearly what the contradiction is, what the SOP says, and how it contradicts the Regulatory Document.\n",
    "\n",
    "Standard Operating Procedure: \n",
    "{sample_sop_content}\n",
    "\n",
    "Regulatory Document:\n",
    "{subpart_content}\n",
    "\n",
    "Please analyze the documents documents and determine if the content of Standard Operating Procedure is consistent with the Regulatory Document. \n",
    "Highlight any discrepancies. \n",
    "\n",
    "Specifically, focus on any **blatant contradictions**, where \"Standard Operating Procedure\" specifies a procedure that directly contradicts the \"Regulatory\" Document.\n",
    "\n",
    "\n",
    "Contradictions Result:\n",
    "\"\"\"\n",
    "\n",
    "#print(comparison_prompt)\n",
    "# Call the API\n",
    "comparison_result = call_bedrock_jamba(comparison_prompt,temperature=0)\n",
    "\n",
    "\n"
   ]
  },
  {
   "cell_type": "markdown",
   "id": "3362f431-f5f4-4433-9e0c-abfb25854278",
   "metadata": {},
   "source": [
    "Inspect the results"
   ]
  },
  {
   "cell_type": "code",
   "execution_count": 6,
   "id": "71d2951e-61d0-4bc2-bfdd-c99bcf7234f6",
   "metadata": {},
   "outputs": [
    {
     "name": "stdout",
     "output_type": "stream",
     "text": [
      "Comparison Result:\n",
      " The provided documents contain extensive Standard Operating Procedures (SOPs) for receiving, storing, sampling, testing, and handling of paracetamol, and a detailed Regulatory Document outlining the requirements for components, drug product containers, and closures under 21 CFR parts 211 and 212. Upon review, several discrepancies and contradictions were identified between the SOP and the Regulatory Document. Here are the key findings:\n",
      "\n",
      "1. **Receipt of Paracetamol Shipment (SOP vs. Regulatory Document)**\n",
      "\n",
      "\n",
      "  * **SOP**: Specifies that paracetamol can be immediately released to storage and is not required to be quarantined prior to testing.\n",
      "  * **Regulatory Document**: Requires that each lot of components, drug product containers, and closures shall be withheld from use until the lot has been sampled, tested, or examined, as appropriate, and released for use by the quality control unit (21 CFR 211.84(a)).\n",
      "\t\n",
      "2. **Storage of Paracetamol (SOP vs. Regulatory Document)**\n",
      "\n",
      "\n",
      "  * **SOP**: Does not specify any particular conditions for storage of paracetamol.\n",
      "  * **Regulatory Document**: Requires that drug product containers and closures shall be stored under quarantine until they have been tested or examined, whichever is appropriate, and released (21 CFR 211.82(b)).\n",
      "\t\n",
      "3. **Sampling and Testing of Paracetamol (SOP vs. Regulatory Document)**\n",
      "\n",
      "\n",
      "  * **SOP**: Allows for immediate testing of paracetamol upon receipt without quarantine.\n",
      "  * **Regulatory Document**: Requires that each lot of components, drug product containers, and closures shall be sampled, tested, or examined, as appropriate, and released for use by the quality control unit (21 CFR 211.84(a)).\n",
      "\t\n",
      "4. **Approval or Rejection of Paracetamol (SOP vs. Regulatory Document)**\n",
      "\n",
      "\n",
      "  * **SOP**: The quality control personnel make a final determination on the approval or rejection of the paracetamol shipment based on testing results.\n",
      "  * **Regulatory Document**: Specifies that any lot of components, drug product containers, or closures that meets the appropriate written specifications of identity, strength, quality, and purity and related tests may be approved and released for use, while any lot that does not meet such specifications shall be rejected (21 CFR 211.84(e)).\n",
      "\t\n",
      "5. **Labeling and Packaging Materials Examination (SOP vs. Regulatory Document)**\n",
      "\n",
      "\n",
      "  * **SOP**: Does not specify any procedures for the examination of labeling and packaging materials.\n",
      "  * **Regulatory Document**: Requires that labeling and packaging materials be examined or tested upon receipt and before use in packaging or labeling of a drug product (21 CFR 211.122(a)).\n",
      "\t\n",
      "6. **Documentation and Record Keeping (SOP vs. Regulatory Document)**\n",
      "\n",
      "\n",
      "  * **SOP**: Does not detail specific documentation and record-keeping procedures for the receipt, storage, sampling, testing, and handling of paracetamol.\n",
      "  * **Regulatory Document**: Requires that all records required under this part, or copies of such records, shall be readily available for authorized inspection during the retention period at the establishment where the activities described in such records occurred (21 CFR 211.180(c)).\n",
      "\n",
      "\n",
      "These discrepancies highlight the need for the SOP to be revised to ensure compliance with the Regulatory Document, particularly regarding the receipt, storage, sampling, testing, and handling of paracetamol, as well as the examination of labeling and packaging materials.\n"
     ]
    }
   ],
   "source": [
    "# Print the comparison result\n",
    "print(\"Comparison Result:\")\n",
    "print(comparison_result)"
   ]
  },
  {
   "cell_type": "markdown",
   "id": "356d543b-7536-4d44-a5f5-93cc0719c895",
   "metadata": {},
   "source": [
    "## Conclusion\n",
    "As you can see from the results above, Jamba Instruct correctly picks up on the fact that in the SOP, Paracetamol is relesed to storage and not quarantined prior to being tested. This flatly contradicts the Regulatory document that requires that the drug product be quarantied prior to testing.  \n",
    "\n",
    "(note that you may see different results yourself, depending on the temperature you use when calling Jamba)"
   ]
  },
  {
   "cell_type": "code",
   "execution_count": null,
   "id": "6997e06f-6502-44ab-af18-0bb6d6f55f9d",
   "metadata": {},
   "outputs": [],
   "source": []
  }
 ],
 "metadata": {
  "kernelspec": {
   "display_name": "Python 3.12.2",
   "language": "python",
   "name": "python-3.12.2"
  },
  "language_info": {
   "codemirror_mode": {
    "name": "ipython",
    "version": 3
   },
   "file_extension": ".py",
   "mimetype": "text/x-python",
   "name": "python",
   "nbconvert_exporter": "python",
   "pygments_lexer": "ipython3",
   "version": "3.12.4"
  }
 },
 "nbformat": 4,
 "nbformat_minor": 5
}
